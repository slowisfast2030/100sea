{
 "cells": [
  {
   "cell_type": "code",
   "execution_count": 1,
   "metadata": {},
   "outputs": [
    {
     "name": "stdout",
     "output_type": "stream",
     "text": [
      "hello"
     ]
    }
   ],
   "source": [
    "import io\n",
    "import sys\n",
    "import typing\n",
    "\n",
    "class MyIO(io.TextIOBase):\n",
    "    def write(self, text: str):\n",
    "        pass\n",
    "\n",
    "def hello(f: typing.TextIO):\n",
    "    f.write('hello')\n",
    "\n",
    "hello(sys.stdout)             # type checks\n",
    "hello(open('temp.txt', 'w'))  # type checks\n",
    "hello(MyIO())                 # does not type check"
   ]
  },
  {
   "cell_type": "code",
   "execution_count": 2,
   "metadata": {},
   "outputs": [
    {
     "name": "stdout",
     "output_type": "stream",
     "text": [
      "hello"
     ]
    }
   ],
   "source": [
    "import io\n",
    "import sys\n",
    "import typing\n",
    "\n",
    "\n",
    "class MyIO(io.StringIO):\n",
    "    def write(self, text: str):\n",
    "        pass\n",
    "\n",
    "\n",
    "def hello(f: typing.TextIO):\n",
    "    f.write(\"hello\")\n",
    "\n",
    "\n",
    "hello(sys.stdout)             # type checks\n",
    "hello(open(\"temp.txt\", \"w\"))  # type checks\n",
    "hello(MyIO())                 # type checks"
   ]
  },
  {
   "cell_type": "code",
   "execution_count": 1,
   "metadata": {},
   "outputs": [
    {
     "name": "stdout",
     "output_type": "stream",
     "text": [
      "前序遍历：\n",
      "A B D E C F G \n",
      "中序遍历：\n",
      "D B E A F C G \n",
      "后序遍历：\n",
      "D E B F G C A "
     ]
    }
   ],
   "source": [
    "# 定义二叉树节点类\n",
    "class Node:\n",
    "    def __init__(self, value=None):\n",
    "        self.value = value\n",
    "        self.left_child = None\n",
    "        self.right_child = None\n",
    "\n",
    "# 前序遍历函数\n",
    "def preorder_traversal(node):\n",
    "    if node is not None:\n",
    "        print(node.value, end=\" \") # 输出当前节点的值\n",
    "        preorder_traversal(node.left_child) # 递归左子节点\n",
    "        preorder_traversal(node.right_child) # 递归右子节点\n",
    "\n",
    "# 中序遍历函数\n",
    "def inorder_traversal(node):\n",
    "    if node is not None:\n",
    "        inorder_traversal(node.left_child) # 递归左子节点\n",
    "        print(node.value, end=\" \") # 输出当前节点的值\n",
    "        inorder_traversal(node.right_child) # 递归右子节点\n",
    "\n",
    "# 后序遍历函数\n",
    "def postorder_traversal(node):\n",
    "    if node is not None:\n",
    "        postorder_traversal(node.left_child) # 递归左子节点\n",
    "        postorder_traversal(node.right_child) # 递归右子节点\n",
    "        print(node.value, end=\" \") # 输出当前节点的值\n",
    "\n",
    "# 创建二叉树\n",
    "root = Node(\"A\")\n",
    "root.left_child = Node(\"B\")\n",
    "root.right_child = Node(\"C\")\n",
    "root.left_child.left_child = Node(\"D\")\n",
    "root.left_child.right_child = Node(\"E\")\n",
    "root.right_child.left_child = Node(\"F\")\n",
    "root.right_child.right_child = Node(\"G\")\n",
    "\n",
    "# 测试三种遍历方式\n",
    "print(\"前序遍历：\")\n",
    "preorder_traversal(root)\n",
    "print()\n",
    "print(\"中序遍历：\")\n",
    "inorder_traversal(root)\n",
    "print()\n",
    "print(\"后序遍历：\")\n",
    "postorder_traversal(root)\n"
   ]
  },
  {
   "cell_type": "code",
   "execution_count": null,
   "metadata": {},
   "outputs": [],
   "source": []
  },
  {
   "cell_type": "code",
   "execution_count": null,
   "metadata": {},
   "outputs": [],
   "source": []
  },
  {
   "cell_type": "code",
   "execution_count": null,
   "metadata": {},
   "outputs": [],
   "source": []
  },
  {
   "cell_type": "code",
   "execution_count": null,
   "metadata": {},
   "outputs": [],
   "source": []
  },
  {
   "cell_type": "code",
   "execution_count": null,
   "metadata": {},
   "outputs": [],
   "source": []
  },
  {
   "cell_type": "code",
   "execution_count": null,
   "metadata": {},
   "outputs": [],
   "source": []
  },
  {
   "cell_type": "code",
   "execution_count": null,
   "metadata": {},
   "outputs": [],
   "source": []
  },
  {
   "cell_type": "code",
   "execution_count": null,
   "metadata": {},
   "outputs": [],
   "source": []
  },
  {
   "cell_type": "code",
   "execution_count": null,
   "metadata": {},
   "outputs": [],
   "source": []
  },
  {
   "cell_type": "code",
   "execution_count": null,
   "metadata": {},
   "outputs": [],
   "source": []
  },
  {
   "cell_type": "code",
   "execution_count": null,
   "metadata": {},
   "outputs": [],
   "source": []
  },
  {
   "cell_type": "code",
   "execution_count": null,
   "metadata": {},
   "outputs": [],
   "source": []
  },
  {
   "cell_type": "code",
   "execution_count": null,
   "metadata": {},
   "outputs": [],
   "source": []
  },
  {
   "cell_type": "code",
   "execution_count": null,
   "metadata": {},
   "outputs": [],
   "source": []
  },
  {
   "cell_type": "code",
   "execution_count": null,
   "metadata": {},
   "outputs": [],
   "source": []
  },
  {
   "cell_type": "code",
   "execution_count": null,
   "metadata": {},
   "outputs": [],
   "source": []
  },
  {
   "cell_type": "code",
   "execution_count": null,
   "metadata": {},
   "outputs": [],
   "source": []
  },
  {
   "cell_type": "code",
   "execution_count": null,
   "metadata": {},
   "outputs": [],
   "source": []
  },
  {
   "cell_type": "code",
   "execution_count": null,
   "metadata": {},
   "outputs": [],
   "source": []
  },
  {
   "cell_type": "code",
   "execution_count": null,
   "metadata": {},
   "outputs": [],
   "source": []
  },
  {
   "cell_type": "code",
   "execution_count": null,
   "metadata": {},
   "outputs": [],
   "source": []
  }
 ],
 "metadata": {
  "kernelspec": {
   "display_name": "Python 3.9.12 ('base')",
   "language": "python",
   "name": "python3"
  },
  "language_info": {
   "codemirror_mode": {
    "name": "ipython",
    "version": 3
   },
   "file_extension": ".py",
   "mimetype": "text/x-python",
   "name": "python",
   "nbconvert_exporter": "python",
   "pygments_lexer": "ipython3",
   "version": "3.9.12"
  },
  "orig_nbformat": 4,
  "vscode": {
   "interpreter": {
    "hash": "f63f3fa61251d3530929b90a6fd0ac6d4fd28461cb09a64c4fa1d09fc6d068be"
   }
  }
 },
 "nbformat": 4,
 "nbformat_minor": 2
}
