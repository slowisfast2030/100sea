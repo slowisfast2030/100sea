{
 "cells": [
  {
   "cell_type": "code",
   "execution_count": null,
   "metadata": {},
   "outputs": [],
   "source": []
  },
  {
   "cell_type": "code",
   "execution_count": 11,
   "metadata": {},
   "outputs": [
    {
     "name": "stdout",
     "output_type": "stream",
     "text": [
      "hello foo!\n"
     ]
    }
   ],
   "source": [
    "class UpperAttrMetaclass(type):\n",
    "    def __new__(cls, clsname, bases, attrs):\n",
    "        uppercase_attrs = {\n",
    "            attr if attr.startswith(\"__\") else attr.upper(): v\n",
    "            for attr, v in attrs.items()\n",
    "        }\n",
    "\n",
    "        # Python 3 can use no-arg super() which infers them:\n",
    "        return super().__new__(cls, clsname, bases, uppercase_attrs)\n",
    "\n",
    "class Foo(object, metaclass=UpperAttrMetaclass):\n",
    "    hello = 'world'\n",
    "\n",
    "    def show(self):\n",
    "        print('hello foo!')\n",
    "\n",
    "foo = Foo()\n",
    "\n",
    "foo.SHOW()"
   ]
  },
  {
   "cell_type": "code",
   "execution_count": 42,
   "metadata": {},
   "outputs": [
    {
     "name": "stdout",
     "output_type": "stream",
     "text": [
      "future_class_name: Bar\n",
      "future_class_parents: ()\n",
      "future_class_attrs: {'__module__': '__main__', '__qualname__': 'Bar', '__init__': <function Bar.__init__ at 0x7fe2c5925550>, 'hello': 'world', 'show': <function Bar.show at 0x7fe2c588bdc0>}\n",
      "hello bar!\n"
     ]
    }
   ],
   "source": [
    "def upper_attr(future_class_name, future_class_parents, future_class_attrs):\n",
    "    \"\"\"\n",
    "      Return a class object, with the list of its attribute turned\n",
    "      into uppercase.\n",
    "    \"\"\"\n",
    "    print('future_class_name: {}'.format(future_class_name))\n",
    "    print('future_class_parents: {}'.format(future_class_parents))\n",
    "    print('future_class_attrs: {}'.format(future_class_attrs))\n",
    "\n",
    "    uppercase_attrs = {\n",
    "        attr if attr.startswith(\"__\") else attr.upper(): v\n",
    "        for attr, v in future_class_attrs.items()\n",
    "    }\n",
    "\n",
    "    return type(future_class_name, future_class_parents, uppercase_attrs)\n",
    "\n",
    "\n",
    "class Bar(metaclass=upper_attr): \n",
    "    def __init__(self, name):\n",
    "        self.name = name\n",
    "    hello = 'world'\n",
    "\n",
    "    def show(self):\n",
    "        print('hello bar!')\n",
    "\n",
    "bar = Bar('thu')\n",
    "\n",
    "bar.SHOW()"
   ]
  },
  {
   "cell_type": "code",
   "execution_count": 18,
   "metadata": {},
   "outputs": [
    {
     "data": {
      "text/plain": [
       "{'name': 'thu'}"
      ]
     },
     "execution_count": 18,
     "metadata": {},
     "output_type": "execute_result"
    }
   ],
   "source": [
    "bar.__dict__"
   ]
  },
  {
   "cell_type": "code",
   "execution_count": 20,
   "metadata": {},
   "outputs": [
    {
     "data": {
      "text/plain": [
       "{'a': 1, 'b': 2, 'c': 3}"
      ]
     },
     "execution_count": 20,
     "metadata": {},
     "output_type": "execute_result"
    }
   ],
   "source": [
    "dict(a=1, b=2, c=3)"
   ]
  },
  {
   "cell_type": "code",
   "execution_count": null,
   "metadata": {},
   "outputs": [],
   "source": []
  },
  {
   "cell_type": "code",
   "execution_count": null,
   "metadata": {},
   "outputs": [],
   "source": []
  },
  {
   "cell_type": "code",
   "execution_count": 21,
   "metadata": {},
   "outputs": [
    {
     "data": {
      "text/plain": [
       "100"
      ]
     },
     "execution_count": 21,
     "metadata": {},
     "output_type": "execute_result"
    }
   ],
   "source": [
    "class Meta(type):\n",
    "    def __new__(cls, name, bases, dct):\n",
    "        x = super().__new__(cls, name, bases, dct)\n",
    "        x.attr = 100\n",
    "        return x\n",
    "\n",
    "class Foo(metaclass=Meta):\n",
    "    pass\n",
    "\n",
    "Foo.attr"
   ]
  },
  {
   "cell_type": "code",
   "execution_count": 39,
   "metadata": {},
   "outputs": [
    {
     "name": "stdout",
     "output_type": "stream",
     "text": [
      "<class '__main__.Meta'>\n",
      "Foo\n",
      "()\n",
      "{'__module__': '__main__', '__qualname__': 'Foo', 'hello': 'world'}\n",
      "{'__module__': '__main__', '__qualname__': 'Foo', 'hello': 'world', 'attr': 101}\n"
     ]
    },
    {
     "data": {
      "text/plain": [
       "101"
      ]
     },
     "execution_count": 39,
     "metadata": {},
     "output_type": "execute_result"
    }
   ],
   "source": [
    "class Meta(type):\n",
    "    def __new__(cls, name, bases, dct):\n",
    "        print(cls)\n",
    "        print(name)\n",
    "        print(bases)\n",
    "        print(dct)\n",
    "\n",
    "        dct = {**dct, **dict(attr=101)}\n",
    "        \n",
    "        print(dct)\n",
    "        return super().__new__(cls, name, bases, dct)\n",
    "\n",
    "class Foo(metaclass=Meta):\n",
    "    hello = 'world'\n",
    "\n",
    "Foo.attr"
   ]
  },
  {
   "cell_type": "code",
   "execution_count": null,
   "metadata": {},
   "outputs": [],
   "source": []
  },
  {
   "cell_type": "code",
   "execution_count": 1,
   "metadata": {},
   "outputs": [],
   "source": [
    "from __future__ import annotations\n",
    "\n",
    "class A:\n",
    "    def f(self) -> A:\n",
    "        pass"
   ]
  },
  {
   "cell_type": "code",
   "execution_count": 17,
   "metadata": {},
   "outputs": [
    {
     "name": "stdout",
     "output_type": "stream",
     "text": [
      "<class '__main__.Foo'>\n",
      "<__main__.Foo object at 0x7fa26510cc90>\n",
      "()\n",
      "{}\n",
      "<__main__.Foo object at 0x7fa26510cc90>\n"
     ]
    }
   ],
   "source": [
    "class Foo(object):\n",
    "\n",
    "    def __new__(cls, *args, **kwargs):\n",
    "        self = object.__new__(cls, *args, **kwargs)\n",
    "        print(cls)\n",
    "        print(self)\n",
    "        print(args)\n",
    "        print(kwargs)\n",
    "        return self\n",
    "\n",
    "    def __init__(self, price=50):\n",
    "        print(self)\n",
    "        self.price = price\n",
    "\n",
    "foo = Foo()\n"
   ]
  },
  {
   "cell_type": "code",
   "execution_count": 34,
   "metadata": {},
   "outputs": [
    {
     "name": "stdout",
     "output_type": "stream",
     "text": [
      "__new__ super:  <super: <class 'Foo'>, <Foo object>>\n",
      "__new__ object:  <class 'object'>\n",
      "__new__ cls:  <class '__main__.Foo'>\n",
      "__new__ self:  <__main__.Foo object at 0x7fa264f8f710>\n",
      "__init__ self:  <__main__.Foo object at 0x7fa264f8f710>\n"
     ]
    },
    {
     "data": {
      "text/plain": [
       "50"
      ]
     },
     "execution_count": 34,
     "metadata": {},
     "output_type": "execute_result"
    }
   ],
   "source": [
    "class Foo(object):\n",
    "\n",
    "    def __new__(cls):\n",
    "        # self = super().__new__(cls)\n",
    "        self = object.__new__(cls)\n",
    "        print('__new__ super: ', super())\n",
    "        print('__new__ object: ', object)\n",
    "        print('__new__ cls: ', cls)\n",
    "        print('__new__ self: ', self)\n",
    "        return self\n",
    "\n",
    "    def __init__(self, price=50):\n",
    "        print('__init__ self: ', self)\n",
    "        self.price = price\n",
    "\n",
    "foo = Foo()\n",
    "foo.price\n"
   ]
  },
  {
   "cell_type": "code",
   "execution_count": 39,
   "metadata": {},
   "outputs": [
    {
     "name": "stdout",
     "output_type": "stream",
     "text": [
      "<__main__.Foo object at 0x7fa264ffd3d0>\n"
     ]
    },
    {
     "data": {
      "text/plain": [
       "['__class__',\n",
       " '__delattr__',\n",
       " '__dict__',\n",
       " '__dir__',\n",
       " '__doc__',\n",
       " '__eq__',\n",
       " '__format__',\n",
       " '__ge__',\n",
       " '__getattribute__',\n",
       " '__gt__',\n",
       " '__hash__',\n",
       " '__init__',\n",
       " '__init_subclass__',\n",
       " '__le__',\n",
       " '__lt__',\n",
       " '__module__',\n",
       " '__ne__',\n",
       " '__new__',\n",
       " '__reduce__',\n",
       " '__reduce_ex__',\n",
       " '__repr__',\n",
       " '__setattr__',\n",
       " '__sizeof__',\n",
       " '__str__',\n",
       " '__subclasshook__',\n",
       " '__weakref__']"
      ]
     },
     "execution_count": 39,
     "metadata": {},
     "output_type": "execute_result"
    }
   ],
   "source": [
    "# 直接通过object类创建对象实例\n",
    "obj = object.__new__(Foo)\n",
    "print(obj)\n",
    "dir(obj)"
   ]
  },
  {
   "cell_type": "code",
   "execution_count": null,
   "metadata": {},
   "outputs": [],
   "source": []
  }
 ],
 "metadata": {
  "kernelspec": {
   "display_name": "Python 3.7.13 ('thu')",
   "language": "python",
   "name": "python3"
  },
  "language_info": {
   "codemirror_mode": {
    "name": "ipython",
    "version": 3
   },
   "file_extension": ".py",
   "mimetype": "text/x-python",
   "name": "python",
   "nbconvert_exporter": "python",
   "pygments_lexer": "ipython3",
   "version": "3.7.13"
  },
  "orig_nbformat": 4,
  "vscode": {
   "interpreter": {
    "hash": "efa13c1dd66854e6bb5b7eb0411ffa559b701b962da340da3863ea47d92c079e"
   }
  }
 },
 "nbformat": 4,
 "nbformat_minor": 2
}
