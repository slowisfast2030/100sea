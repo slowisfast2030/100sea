{
 "cells": [
  {
   "cell_type": "markdown",
   "metadata": {},
   "source": [
    "[Python Metaclasses](https://realpython.com/python-metaclasses/)\n",
    "\n",
    "[What are metaclasses in Python?](https://stackoverflow.com/questions/100003/what-are-metaclasses-in-python)"
   ]
  },
  {
   "cell_type": "markdown",
   "metadata": {},
   "source": [
    "> “Metaclasses are deeper magic than 99% of users should ever worry about.   \n",
    "If you wonder whether you need them, you don’t  \n",
    "(the people who actually need them know with certainty that they need them, and don’t need an explanation about why).”\n",
    "> \n",
    "> — Tim Peters\n",
    "\n"
   ]
  },
  {
   "cell_type": "code",
   "execution_count": 55,
   "metadata": {},
   "outputs": [
    {
     "name": "stdout",
     "output_type": "stream",
     "text": [
      "<class 'type'>\n",
      "<class 'type'>\n",
      "<class 'type'>\n",
      "<class 'type'>\n",
      "<class 'type'>\n",
      "<class 'type'>\n",
      "<class 'type'>\n"
     ]
    }
   ],
   "source": [
    "for t in int, float, dict, list, tuple, object, type:\n",
    "    print(type(t))"
   ]
  },
  {
   "cell_type": "code",
   "execution_count": 58,
   "metadata": {},
   "outputs": [
    {
     "name": "stdout",
     "output_type": "stream",
     "text": [
      "<class 'list'>\n",
      "<class 'type'>\n"
     ]
    }
   ],
   "source": [
    "l = list([1,2,3])\n",
    "print(l.__class__)\n",
    "print(l.__class__.__class__)"
   ]
  },
  {
   "cell_type": "markdown",
   "metadata": {},
   "source": [
    "## Defining a Class Dynamically\n",
    "\n",
    "The built-in type() function, when passed one argument, returns the type of an object. For new-style classes, that is generally the same as the object’s __class__ attribute\n",
    "```python\n",
    "l = list([1,2,3])\n",
    "print(l.__class__ == type(l))\n",
    "print(l.__class__.__class__ == type(type(l)))\n",
    "```\n",
    "You can also call type() with three arguments—type(name, bases, dct):\n",
    "* name: specifies the class name. This becomes the \\__name__ attribute of the class.\n",
    "* bases: specifies a tuple of the base classes from which the class inherits. This becomes the \\__bases__ attribute of the class.\n",
    "* dct: specifies a namespace dictionary containing definitions for the class body. This becomes the \\__dict__ attribute of the class."
   ]
  },
  {
   "cell_type": "code",
   "execution_count": 65,
   "metadata": {},
   "outputs": [
    {
     "name": "stdout",
     "output_type": "stream",
     "text": [
      "1 2\n"
     ]
    }
   ],
   "source": [
    "class A:\n",
    "    a = 1\n",
    "\n",
    "class B(A):\n",
    "    b = 2\n",
    "\n",
    "obj_b = B()\n",
    "print(obj_b.a, obj_b.b)"
   ]
  },
  {
   "cell_type": "markdown",
   "metadata": {},
   "source": [
    "## 深度思考\n",
    "```python\n",
    "\n",
    "def new(cls):\n",
    "    x = object.__new__(cls)\n",
    "    x.attr = 100\n",
    "    return x\n",
    "Foo.__new__ = new\n",
    "# 通过类可以实例化对象。\n",
    "# 我们可以定制实例化过程。\n",
    "# 定制的核心在于修改__new__()函数。实例化最重要的一步是通过__new__()函数返回实例化的对象。\n",
    "# 只要修改__new__()函数，就可以定制实例化过程，比如新添加一个属性。\n",
    "\n",
    "class Meta(type):\n",
    "    def __new__(cls, name, bases, dct):\n",
    "        x = super().__new__(cls, name, bases, dct)\n",
    "        x.attr = 100\n",
    "        return x\n",
    "# 通过type可以实例化类。\n",
    "# 同理，我们也可以定制实例化类的过程。\n",
    "# 定制的核心也在于修改__new__()函数。通过__new__()函数返回一个实例化的类。\n",
    "```\n",
    "\n",
    "```python\n",
    "# 请对比\n",
    "x = object.__new__(cls) #返回对象\n",
    "x = super().__new__(cls, name, bases, dct) #返回类\n",
    "```"
   ]
  },
  {
   "cell_type": "code",
   "execution_count": 48,
   "metadata": {},
   "outputs": [
    {
     "name": "stdout",
     "output_type": "stream",
     "text": [
      "hello foo!\n"
     ]
    }
   ],
   "source": [
    "class UpperAttrMetaclass(type):\n",
    "    def __new__(cls, clsname, bases, attrs):\n",
    "        uppercase_attrs = {\n",
    "            attr if attr.startswith(\"__\") else attr.upper(): v\n",
    "            for attr, v in attrs.items()\n",
    "        }\n",
    "\n",
    "        return super().__new__(cls, clsname, bases, uppercase_attrs)\n",
    "\n",
    "class Foo(object, metaclass=UpperAttrMetaclass):\n",
    "    hello = 'world'\n",
    "\n",
    "    def show(self):\n",
    "        print('hello foo!')\n",
    "\n",
    "foo = Foo()\n",
    "\n",
    "foo.SHOW()"
   ]
  },
  {
   "cell_type": "code",
   "execution_count": 60,
   "metadata": {},
   "outputs": [
    {
     "name": "stdout",
     "output_type": "stream",
     "text": [
      "future_class_name: Bar\n",
      "future_class_parents: (<class '__main__.Foo'>,)\n",
      "future_class_attrs: {'__module__': '__main__', '__qualname__': 'Bar', '__init__': <function Bar.__init__ at 0x7f948885f550>, 'hello': 'world', 'show': <function Bar.show at 0x7f948885f430>}\n",
      "hello bar!\n"
     ]
    }
   ],
   "source": [
    "def upper_attr(future_class_name, future_class_parents, future_class_attrs):\n",
    "    \"\"\"\n",
    "      Return a class object, with the list of its attribute turned\n",
    "      into uppercase.\n",
    "    \"\"\"\n",
    "    print('future_class_name: {}'.format(future_class_name))\n",
    "    print('future_class_parents: {}'.format(future_class_parents))\n",
    "    print('future_class_attrs: {}'.format(future_class_attrs))\n",
    "\n",
    "    uppercase_attrs = {\n",
    "        attr if attr.startswith(\"__\") else attr.upper(): v\n",
    "        for attr, v in future_class_attrs.items()\n",
    "    }\n",
    "\n",
    "    return type(future_class_name, future_class_parents, uppercase_attrs)\n",
    "\n",
    "class Foo():\n",
    "    pass\n",
    "\n",
    "class Bar(Foo, metaclass=upper_attr): \n",
    "    def __init__(self, name):\n",
    "        self.name = name\n",
    "    hello = 'world'\n",
    "\n",
    "    def show(self):\n",
    "        print('hello bar!')\n",
    "\n",
    "bar = Bar('thu')\n",
    "\n",
    "bar.SHOW()"
   ]
  },
  {
   "cell_type": "code",
   "execution_count": 18,
   "metadata": {},
   "outputs": [
    {
     "data": {
      "text/plain": [
       "{'name': 'thu'}"
      ]
     },
     "execution_count": 18,
     "metadata": {},
     "output_type": "execute_result"
    }
   ],
   "source": [
    "bar.__dict__"
   ]
  },
  {
   "cell_type": "code",
   "execution_count": 21,
   "metadata": {},
   "outputs": [
    {
     "data": {
      "text/plain": [
       "100"
      ]
     },
     "execution_count": 21,
     "metadata": {},
     "output_type": "execute_result"
    }
   ],
   "source": [
    "class Meta(type):\n",
    "    def __new__(cls, name, bases, dct):\n",
    "        x = super().__new__(cls, name, bases, dct)\n",
    "        x.attr = 100\n",
    "        return x\n",
    "\n",
    "class Foo(metaclass=Meta):\n",
    "    pass\n",
    "\n",
    "Foo.attr"
   ]
  },
  {
   "cell_type": "code",
   "execution_count": 47,
   "metadata": {},
   "outputs": [
    {
     "name": "stdout",
     "output_type": "stream",
     "text": [
      "cls:  <class '__main__.Meta'>\n",
      "name:  Foo\n",
      "bases:  (<class '__main__.Bar'>,)\n",
      "dct before:  {'__module__': '__main__', '__qualname__': 'Foo', 'hello': 'world'}\n",
      "dct after:  {'__module__': '__main__', '__qualname__': 'Foo', 'hello': 'world', 'attr': 101}\n",
      "super():  <super: <class 'Meta'>, <Meta object>>\n",
      "res:  <class '__main__.Foo'>\n",
      "101\n",
      "world\n"
     ]
    }
   ],
   "source": [
    "class Meta(type):\n",
    "    def __new__(cls, name, bases, dct):\n",
    "        # 这些参数如何传入？\n",
    "        # 原来如此！自动传入\n",
    "        # name, bases, dct自动接收Foo类的相关信息\n",
    "        print('cls: ', cls)\n",
    "        print('name: ', name)\n",
    "        print('bases: ', bases)\n",
    "\n",
    "        print('dct before: ', dct)\n",
    "        dct = {**dct, **dict(attr=101)}\n",
    "        print('dct after: ', dct)\n",
    "\n",
    "        print('super(): ', super())\n",
    "        # super()究竟是对象和类？应该是对象\n",
    "        res = super().__new__(cls, name, bases, dct)\n",
    "        # res = type(name, bases, dct)\n",
    "        print('res: ', res)\n",
    "\n",
    "        return res\n",
    "\n",
    "class Bar(object):\n",
    "    pass\n",
    "\n",
    "class Foo(Bar, metaclass=Meta):\n",
    "    hello = 'world'\n",
    "\n",
    "print(Foo.attr)\n",
    "print(Foo.hello)"
   ]
  },
  {
   "cell_type": "code",
   "execution_count": null,
   "metadata": {},
   "outputs": [],
   "source": []
  },
  {
   "cell_type": "code",
   "execution_count": null,
   "metadata": {},
   "outputs": [],
   "source": []
  },
  {
   "cell_type": "code",
   "execution_count": null,
   "metadata": {},
   "outputs": [],
   "source": []
  },
  {
   "cell_type": "code",
   "execution_count": null,
   "metadata": {},
   "outputs": [],
   "source": []
  },
  {
   "cell_type": "code",
   "execution_count": null,
   "metadata": {},
   "outputs": [],
   "source": []
  }
 ],
 "metadata": {
  "kernelspec": {
   "display_name": "Python 3.9.12 ('base')",
   "language": "python",
   "name": "python3"
  },
  "language_info": {
   "codemirror_mode": {
    "name": "ipython",
    "version": 3
   },
   "file_extension": ".py",
   "mimetype": "text/x-python",
   "name": "python",
   "nbconvert_exporter": "python",
   "pygments_lexer": "ipython3",
   "version": "3.9.12"
  },
  "orig_nbformat": 4,
  "vscode": {
   "interpreter": {
    "hash": "f63f3fa61251d3530929b90a6fd0ac6d4fd28461cb09a64c4fa1d09fc6d068be"
   }
  }
 },
 "nbformat": 4,
 "nbformat_minor": 2
}
