{
 "cells": [
  {
   "cell_type": "code",
   "execution_count": 1,
   "metadata": {},
   "outputs": [],
   "source": [
    "# https://www.zhihu.com/question/54152397\n",
    "# "
   ]
  },
  {
   "cell_type": "markdown",
   "metadata": {},
   "source": [
    "### 推送消息\n"
   ]
  },
  {
   "cell_type": "code",
   "execution_count": null,
   "metadata": {},
   "outputs": [],
   "source": [
    "from rocketmq.client import Producer, Message\n",
    "producer = Producer('PID-001')     #随便\n",
    "producer.set_namesrv_addr('ip:port')   #ip和端口\n",
    "producer.start()\n",
    " \n",
    "msg = Message('rocket_mq_test_broadcast_topic')  #topic\n",
    "msg.set_keys('2020-12-15')\n",
    "msg.set_tags('explain')\n",
    "msg.set_body('{\"key\":\"value\"}')\n",
    "ret = producer.send_sync(msg)\n",
    "print(ret.status, ret.msg_id, ret.offset)\n",
    "producer.shutdown()"
   ]
  },
  {
   "cell_type": "code",
   "execution_count": null,
   "metadata": {},
   "outputs": [],
   "source": [
    "# 推送消息的时候，如果消息所占字节太长，需要手动设置size，代码中设置的是1M。\n",
    "producer = Producer('PID-001',max_message_size=1024*1024)"
   ]
  },
  {
   "cell_type": "code",
   "execution_count": null,
   "metadata": {},
   "outputs": [],
   "source": [
    "import json\n",
    "from rocketmq.client import Producer, Message\n",
    "\n",
    "producer = Producer('PID-XXX')\n",
    "producer.set_namesrv_domain('http://onsaddr-internet.aliyun.com/rocketmq/nsaddr4client-internet')#rocketmq队列接口地址（服务器ip:port）\n",
    "# For ip and port name server address, use `set_namesrv_addr` method, for example:\n",
    "# producer.set_namesrv_addr('127.0.0.1:9887')\n",
    "producer.set_session_credentials('XXX', 'XXXX', 'ALIYUN')#可以不使用\n",
    "producer.start()\n",
    "\n",
    "msg_body = {\"id\": \"test_id\", \"name\": \"test_name\", \"message\": \"test_message\"}\n",
    "ss = json.dumps(msg_body).encode('utf-8')\n",
    "\n",
    "msg = Message('YOUR-TOPIC') #topic名称\n",
    "msg.set_keys('XXX')#每个消息在业务层面的唯一标识码，要设置到keys字段，方便将来定位消息丢失问题。服务器会为每个消息创建索引（哈希索引），应用可以通过topic，key来查询这条消息内容，以及消息被谁消费。由于是哈希索引，请务必保证key尽可能唯一，这样可以避免潜在的哈希冲突。\n",
    "msg.set_tags('XXX')#一个应用尽可能用一个Topic，消息子类型用tags来标识，tags可以由应用自由设置。只有发送消息设置了tags，消费方在订阅消息时，才可以利用tags在broker做消息过滤。\n",
    "msg.set_body(ss)\n",
    "ret = producer.send_sync(msg)\n",
    "print(ret.status, ret.msg_id, ret.offset)\n",
    "producer.shutdown()\n"
   ]
  },
  {
   "cell_type": "markdown",
   "metadata": {},
   "source": [
    "### 消费方式PullConsumer（全部消费）（可重复消费）"
   ]
  },
  {
   "cell_type": "code",
   "execution_count": null,
   "metadata": {},
   "outputs": [],
   "source": [
    "from rocketmq.client import PullConsumer\n",
    "import json\n",
    "consumer = PullConsumer('PID-001')\n",
    "consumer.set_namesrv_addr('ip:port')\n",
    "consumer.start()\n",
    "for msg in consumer.pull('rocket_mq_test_broadcast_topic'):\n",
    "    print(msg.tags)\n",
    "    print(msg.keys)\n",
    "    print(msg.id, msg.body)\n",
    "    print(msg.topic)\n",
    "    print(msg)\n",
    "    data=json.loads(str(msg))  #dict\n",
    "consumer.shutdown()"
   ]
  },
  {
   "cell_type": "code",
   "execution_count": null,
   "metadata": {},
   "outputs": [],
   "source": [
    "from rocketmq.client import PullConsumer\n",
    "\n",
    "consumer = PullConsumer('CID_XXX')\n",
    "consumer.set_namesrv_domain('http://onsaddr-internet.aliyun.com/rocketmq/nsaddr4client-internet')\n",
    "# For ip and port name server address, use `set_namesrv_addr` method, for example:\n",
    "# consumer.set_namesrv_addr('127.0.0.1:9887')\n",
    "\n",
    "consumer.set_session_credentials('XXX', 'XXXX', 'ALIYUN')\n",
    "consumer.start()\n",
    "\n",
    "for msg in consumer.pull('YOUR-TOPIC'):\n",
    "    print(msg.id, msg.body)\n",
    "\n",
    "consumer.shutdown()"
   ]
  },
  {
   "cell_type": "markdown",
   "metadata": {},
   "source": [
    "### 消费方式PushConsumer（即时消费）（不可重复消费）"
   ]
  },
  {
   "cell_type": "code",
   "execution_count": null,
   "metadata": {},
   "outputs": [],
   "source": [
    "import time\n",
    "from rocketmq.client import PushConsumer\n",
    "def callback(msg):\n",
    "    print(msg)\n",
    "consumer = PushConsumer('PID-001')\n",
    "consumer.set_namesrv_addr('ip:port')\n",
    "consumer.subscribe(\"rocket_mq_test_broadcast_topic\", callback)\n",
    "consumer.start()\n",
    "while True:\n",
    "    time.sleep(30)\n",
    "consumer.shutdown()"
   ]
  },
  {
   "cell_type": "code",
   "execution_count": null,
   "metadata": {},
   "outputs": [],
   "source": [
    "import time\n",
    "\n",
    "from rocketmq.client import PushConsumer\n",
    "\n",
    "def callback(msg):\n",
    "    print(msg.id, msg.body)\n",
    "\n",
    "consumer = PushConsumer('CID_XXX')\n",
    "consumer.set_namesrv_domain('http://onsaddr-internet.aliyun.com/rocketmq/nsaddr4client-internet')\n",
    "# For ip and port name server address, use `set_namesrv_addr` method, for example:\n",
    "# consumer.set_namesrv_addr('127.0.0.1:9887')\n",
    "\n",
    "consumer.set_session_credentials('XXX', 'XXXX', 'ALIYUN')\n",
    "consumer.subscribe('YOUR-TOPIC', callback)\n",
    "consumer.start()\n",
    "\n",
    "while True:\n",
    "    time.sleep(3600)\n",
    "\n",
    "consumer.shutdown()\n"
   ]
  },
  {
   "cell_type": "markdown",
   "metadata": {},
   "source": [
    "### 控制日志的输出频率"
   ]
  },
  {
   "cell_type": "code",
   "execution_count": null,
   "metadata": {},
   "outputs": [],
   "source": [
    "from rocketmq.client import dll\n",
    "\n",
    "dll.SetPushConsumerLogLevel(namesrv_addr.encode('utf-8'), 1)"
   ]
  },
  {
   "cell_type": "code",
   "execution_count": null,
   "metadata": {},
   "outputs": [],
   "source": []
  }
 ],
 "metadata": {
  "kernelspec": {
   "display_name": "Python 3.9.12 ('base')",
   "language": "python",
   "name": "python3"
  },
  "language_info": {
   "codemirror_mode": {
    "name": "ipython",
    "version": 3
   },
   "file_extension": ".py",
   "mimetype": "text/x-python",
   "name": "python",
   "nbconvert_exporter": "python",
   "pygments_lexer": "ipython3",
   "version": "3.9.12"
  },
  "orig_nbformat": 4,
  "vscode": {
   "interpreter": {
    "hash": "f63f3fa61251d3530929b90a6fd0ac6d4fd28461cb09a64c4fa1d09fc6d068be"
   }
  }
 },
 "nbformat": 4,
 "nbformat_minor": 2
}
