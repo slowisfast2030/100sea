{
 "cells": [
  {
   "cell_type": "code",
   "execution_count": 3,
   "metadata": {},
   "outputs": [
    {
     "data": {
      "text/plain": [
       "8"
      ]
     },
     "execution_count": 3,
     "metadata": {},
     "output_type": "execute_result"
    }
   ],
   "source": [
    "'''\n",
    "Magic methods in Python are the special methods that start and end with the double underscores. \n",
    "They are also called dunder methods. \n",
    "\n",
    "Magic methods are not meant to be invoked directly by you, but the invocation happens internally from the class on a certain action. \n",
    "For example, when you add two numbers using the + operator, internally, the __add__() method will be called.\n",
    "\n",
    "Built-in classes in Python define many magic methods. \n",
    "Use the dir() function to see the number of magic methods inherited by a class. \n",
    "For example, the following lists all the attributes and methods defined in the int class.\n",
    "'''"
   ]
  },
  {
   "cell_type": "code",
   "execution_count": 6,
   "metadata": {},
   "outputs": [
    {
     "name": "stdout",
     "output_type": "stream",
     "text": [
      "['__abs__', '__add__', '__and__', '__bool__', '__ceil__', '__class__', '__delattr__', '__dir__', '__divmod__', '__doc__', '__eq__', '__float__', '__floor__', '__floordiv__', '__format__', '__ge__', '__getattribute__', '__getnewargs__', '__gt__', '__hash__', '__index__', '__init__', '__init_subclass__', '__int__', '__invert__', '__le__', '__lshift__', '__lt__', '__mod__', '__mul__', '__ne__', '__neg__', '__new__', '__or__', '__pos__', '__pow__', '__radd__', '__rand__', '__rdivmod__', '__reduce__', '__reduce_ex__', '__repr__', '__rfloordiv__', '__rlshift__', '__rmod__', '__rmul__', '__ror__', '__round__', '__rpow__', '__rrshift__', '__rshift__', '__rsub__', '__rtruediv__', '__rxor__', '__setattr__', '__sizeof__', '__str__', '__sub__', '__subclasshook__', '__truediv__', '__trunc__', '__xor__', 'as_integer_ratio', 'bit_length', 'conjugate', 'denominator', 'from_bytes', 'imag', 'numerator', 'real', 'to_bytes']\n"
     ]
    }
   ],
   "source": [
    "print(dir(int))"
   ]
  },
  {
   "cell_type": "code",
   "execution_count": 7,
   "metadata": {},
   "outputs": [
    {
     "name": "stdout",
     "output_type": "stream",
     "text": [
      "['__add__', '__class__', '__contains__', '__delattr__', '__dir__', '__doc__', '__eq__', '__format__', '__ge__', '__getattribute__', '__getitem__', '__getnewargs__', '__gt__', '__hash__', '__init__', '__init_subclass__', '__iter__', '__le__', '__len__', '__lt__', '__mod__', '__mul__', '__ne__', '__new__', '__reduce__', '__reduce_ex__', '__repr__', '__rmod__', '__rmul__', '__setattr__', '__sizeof__', '__str__', '__subclasshook__', 'capitalize', 'casefold', 'center', 'count', 'encode', 'endswith', 'expandtabs', 'find', 'format', 'format_map', 'index', 'isalnum', 'isalpha', 'isascii', 'isdecimal', 'isdigit', 'isidentifier', 'islower', 'isnumeric', 'isprintable', 'isspace', 'istitle', 'isupper', 'join', 'ljust', 'lower', 'lstrip', 'maketrans', 'partition', 'removeprefix', 'removesuffix', 'replace', 'rfind', 'rindex', 'rjust', 'rpartition', 'rsplit', 'rstrip', 'split', 'splitlines', 'startswith', 'strip', 'swapcase', 'title', 'translate', 'upper', 'zfill']\n"
     ]
    }
   ],
   "source": [
    "print(dir(str))"
   ]
  },
  {
   "cell_type": "code",
   "execution_count": null,
   "metadata": {},
   "outputs": [],
   "source": [
    "'''\n",
    "As you can see above, the int class includes various magic methods surrounded by double underscores. \n",
    "\n",
    "For example, the __add__ method is a magic method which gets called when we add two numbers using the + operator. Consider the following example.\n",
    "'''\n"
   ]
  },
  {
   "cell_type": "code",
   "execution_count": 8,
   "metadata": {},
   "outputs": [
    {
     "name": "stdout",
     "output_type": "stream",
     "text": [
      "15\n",
      "15\n"
     ]
    }
   ],
   "source": [
    "num=10\n",
    "\n",
    "print(num + 5)\n",
    "print(num.__add__(5))"
   ]
  },
  {
   "cell_type": "code",
   "execution_count": null,
   "metadata": {},
   "outputs": [],
   "source": [
    "'''\n",
    "As you can see, when you do num+10, the + operator calls the __add__(10) method. \n",
    "You can also call num.__add__(5) directly which will give the same result. \n",
    "However, as mentioned before, magic methods are not meant to be called directly, but internally, through some other methods or actions.\n",
    "\n",
    "Magic methods are most frequently used to define overloaded behaviours of predefined operators in Python. \n",
    "For instance, arithmetic operators by default operate upon numeric operands. \n",
    "This means that numeric objects must be used along with operators like +, -, *, /, etc. \n",
    "The + operator is also defined as a concatenation operator in string, list and tuple classes. \n",
    "We can say that the + operator is overloaded.\n",
    "\n",
    "In order to make the overloaded behaviour available in your own custom class, \n",
    "the corresponding magic method should be overridden. \n",
    "For example, in order to use the + operator with objects of a user-defined class, it should include the __add__() method.\n",
    "'''"
   ]
  },
  {
   "cell_type": "code",
   "execution_count": 9,
   "metadata": {},
   "outputs": [
    {
     "name": "stdout",
     "output_type": "stream",
     "text": [
      "__new__ magic method is called\n",
      "__init__ magic method is called\n"
     ]
    }
   ],
   "source": [
    "# __new__() method\n",
    "'''\n",
    "Languages such as Java and C# use the new operator to create a new instance of a class. \n",
    "In Python the __new__() magic method is implicitly called before the __init__() method. \n",
    "The __new__() method returns a new object, which is then initialized by __init__().\n",
    "'''\n",
    "class Employee:\n",
    "    def __new__(cls):\n",
    "        print (\"__new__ magic method is called\")\n",
    "        inst = object.__new__(cls)\n",
    "        return inst\n",
    "    \n",
    "    def __init__(self):\n",
    "        print (\"__init__ magic method is called\")\n",
    "        self.name='Satya'\n",
    "\n",
    "emp = Employee()"
   ]
  },
  {
   "cell_type": "code",
   "execution_count": 12,
   "metadata": {},
   "outputs": [
    {
     "name": "stdout",
     "output_type": "stream",
     "text": [
      "12\n",
      "12\n",
      "12\n"
     ]
    }
   ],
   "source": [
    "# __str__() method\n",
    "'''\n",
    "Another useful magic method is __str__(). \n",
    "It is overridden to return a printable string representation of any user defined class. \n",
    "We have seen str() built-in function which returns a string from the object parameter. \n",
    "For example, str(12) returns '12'. When invoked, it calls the __str__() method in the int class.\n",
    "'''\n",
    "num=12\n",
    "print(str(num))\n",
    "#This is equivalent to\n",
    "print(int.__str__(num))\n",
    "print(num.__str__())"
   ]
  },
  {
   "cell_type": "code",
   "execution_count": 15,
   "metadata": {},
   "outputs": [
    {
     "name": "stdout",
     "output_type": "stream",
     "text": [
      "name = Swati\n",
      "salary = $10000\n"
     ]
    }
   ],
   "source": [
    "# Let us now override the __str__() method in the Employee class to return a string representation of its object.\n",
    "\n",
    "class Employee:\n",
    "    def __init__(self):\n",
    "        self.name='Swati'\n",
    "        self.salary=10000\n",
    "    def __str__(self):\n",
    "        return 'name = ' + self.name + '\\nsalary = $' + str(self.salary)\n",
    "\n",
    "# See how the str() function internally calls the __str__() method defined in the Employee class. This is why it is called a magic method!\n",
    "e1=Employee()\n",
    "print(e1)"
   ]
  },
  {
   "cell_type": "code",
   "execution_count": 18,
   "metadata": {},
   "outputs": [
    {
     "name": "stdout",
     "output_type": "stream",
     "text": [
      "d1=ft:3 in: 10 \n",
      "d2=ft:4 in: 4\n",
      "ft:8 in: 2\n"
     ]
    }
   ],
   "source": [
    "# __add__() method\n",
    "'''\n",
    "In following example, a class named distance is defined with two instance attributes - ft and inch. \n",
    "The addition of these two distance objects is desired to be performed using the overloading + operator.\n",
    "\n",
    "To achieve this, the magic method __add__() is overridden, \n",
    "which performs the addition of the ft and inch attributes of the two objects. \n",
    "The __str__() method returns the object's string representation.\n",
    "'''\n",
    "class distance:\n",
    "    def __init__(self, x=None,y=None):\n",
    "        self.ft=x\n",
    "        self.inch=y\n",
    "\n",
    "    def __add__(self,x):\n",
    "        temp=distance()\n",
    "        temp.ft=self.ft+x.ft\n",
    "        temp.inch=self.inch+x.inch\n",
    "\n",
    "        if temp.inch>=12:\n",
    "            temp.ft+=1\n",
    "            temp.inch-=12\n",
    "            return temp\n",
    "\n",
    "    def __str__(self):\n",
    "        return 'ft:'+str(self.ft)+' in: '+str(self.inch)\n",
    "\n",
    "d1=distance(3,10)\n",
    "d2=distance(4,4)\n",
    "print(\"d1={} \\nd2={}\".format(d1, d2))\n",
    "d3=d1+d2\n",
    "print(d3)"
   ]
  },
  {
   "cell_type": "code",
   "execution_count": null,
   "metadata": {},
   "outputs": [],
   "source": []
  },
  {
   "cell_type": "code",
   "execution_count": null,
   "metadata": {},
   "outputs": [],
   "source": []
  },
  {
   "cell_type": "code",
   "execution_count": null,
   "metadata": {},
   "outputs": [],
   "source": []
  }
 ],
 "metadata": {
  "kernelspec": {
   "display_name": "Python 3.9.12 ('base')",
   "language": "python",
   "name": "python3"
  },
  "language_info": {
   "codemirror_mode": {
    "name": "ipython",
    "version": 3
   },
   "file_extension": ".py",
   "mimetype": "text/x-python",
   "name": "python",
   "nbconvert_exporter": "python",
   "pygments_lexer": "ipython3",
   "version": "3.9.12"
  },
  "orig_nbformat": 4,
  "vscode": {
   "interpreter": {
    "hash": "40d3a090f54c6569ab1632332b64b2c03c39dcf918b08424e98f38b5ae0af88f"
   }
  }
 },
 "nbformat": 4,
 "nbformat_minor": 2
}
