{
 "cells": [
  {
   "cell_type": "code",
   "execution_count": 1,
   "metadata": {},
   "outputs": [
    {
     "name": "stdout",
     "output_type": "stream",
     "text": [
      "Emp __init__ self:  <__main__.Freelance object at 0x7f7bf37a4df0>\n",
      "super():  <super: <class 'Freelance'>, <Freelance object>>\n",
      "Freelance __init__ self:  <__main__.Freelance object at 0x7f7bf37a4df0>\n",
      "The ID is: 103\n",
      "The Name is: Suraj kr gupta\n",
      "The Address is: Noida\n",
      "The Emails is: KKK@gmails\n"
     ]
    }
   ],
   "source": [
    "class Emp():\n",
    "\tdef __init__(self, id, name, Add):\n",
    "\t\tself.id = id\n",
    "\t\tself.name = name\n",
    "\t\tself.Add = Add\n",
    "\t\tprint('Emp __init__ self: ', self)\n",
    "\n",
    "class Freelance(Emp):\n",
    "\tdef __init__(self, id, name, Add, Emails):\n",
    "\t\t# super()返回的是一个临时对象\n",
    "\t\t# super().__init__(id, name, Add)\n",
    "\t\t# 等价写法\n",
    "\t\tEmp.__init__(self, id, name, Add)\n",
    "\t\t'''\n",
    "\t\t一个猜想：\n",
    "\t\tEmp.__init__(self, id, name, Add)这种写法很容易看出来，调用了父类Emp的__init__方法，\n",
    "\t\t传入的第一个参数是Freelance的对象。\n",
    "\t\t从而完成了Freelance的对象的初始化。\n",
    "\n",
    "\t\t然而super().__init__(id, name, Add)这种写法，只能看出来通过super()调用了__init__方法，\n",
    "\t\t但看不出来这个__init__方法绑定了Freelance对象。\n",
    "\t\t除非隐式的绑定了！！！\n",
    "\t\t'''\n",
    "\n",
    "\t\tself.Emails = Emails\n",
    "\t\tprint('super(): ', super())\n",
    "\t\tprint('Freelance __init__ self: ', self)\n",
    "\n",
    "\n",
    "Emp_1 = Freelance(103, \"Suraj kr gupta\", \"Noida\" , \"KKK@gmails\")\n",
    "print('The ID is:', Emp_1.id)\n",
    "print('The Name is:', Emp_1.name)\n",
    "print('The Address is:', Emp_1.Add)\n",
    "print('The Emails is:', Emp_1.Emails)\n",
    "\n"
   ]
  },
  {
   "cell_type": "code",
   "execution_count": null,
   "metadata": {},
   "outputs": [],
   "source": []
  },
  {
   "cell_type": "code",
   "execution_count": null,
   "metadata": {},
   "outputs": [],
   "source": []
  },
  {
   "cell_type": "code",
   "execution_count": null,
   "metadata": {},
   "outputs": [],
   "source": []
  },
  {
   "cell_type": "code",
   "execution_count": null,
   "metadata": {},
   "outputs": [],
   "source": []
  },
  {
   "cell_type": "code",
   "execution_count": null,
   "metadata": {},
   "outputs": [],
   "source": []
  },
  {
   "cell_type": "code",
   "execution_count": null,
   "metadata": {},
   "outputs": [],
   "source": []
  }
 ],
 "metadata": {
  "kernelspec": {
   "display_name": "Python 3.9.12 ('base')",
   "language": "python",
   "name": "python3"
  },
  "language_info": {
   "codemirror_mode": {
    "name": "ipython",
    "version": 3
   },
   "file_extension": ".py",
   "mimetype": "text/x-python",
   "name": "python",
   "nbconvert_exporter": "python",
   "pygments_lexer": "ipython3",
   "version": "3.9.12"
  },
  "orig_nbformat": 4,
  "vscode": {
   "interpreter": {
    "hash": "f63f3fa61251d3530929b90a6fd0ac6d4fd28461cb09a64c4fa1d09fc6d068be"
   }
  }
 },
 "nbformat": 4,
 "nbformat_minor": 2
}
