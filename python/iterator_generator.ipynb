{
 "cells": [
  {
   "cell_type": "code",
   "execution_count": 45,
   "metadata": {},
   "outputs": [],
   "source": [
    "import collections"
   ]
  },
  {
   "cell_type": "code",
   "execution_count": 61,
   "metadata": {},
   "outputs": [
    {
     "data": {
      "text/plain": [
       "True"
      ]
     },
     "execution_count": 61,
     "metadata": {},
     "output_type": "execute_result"
    }
   ],
   "source": [
    "class Squares(object):\n",
    "    def __init__(self, start, stop):\n",
    "       self.start = start\n",
    "       self.stop = stop\n",
    "    \n",
    "    def __iter__(self): return self\n",
    "    \n",
    "    def __next__(self): \n",
    "       if self.start >= self.stop:\n",
    "           raise StopIteration\n",
    "       current = self.start \n",
    "       self.start += 1\n",
    "       return current\n",
    "\n",
    "# iterator = Squares(1, 10)\n",
    "issubclass(Squares, collections.Iterator)"
   ]
  },
  {
   "cell_type": "code",
   "execution_count": 57,
   "metadata": {},
   "outputs": [
    {
     "ename": "TypeError",
     "evalue": "Can't instantiate abstract class Iterable with abstract method __iter__",
     "output_type": "error",
     "traceback": [
      "\u001b[0;31m---------------------------------------------------------------------------\u001b[0m",
      "\u001b[0;31mTypeError\u001b[0m                                 Traceback (most recent call last)",
      "\u001b[1;32m/Users/linus/Desktop/100sea/python/iterator_generator.ipynb Cell 3\u001b[0m in \u001b[0;36m<cell line: 1>\u001b[0;34m()\u001b[0m\n\u001b[0;32m----> <a href='vscode-notebook-cell:/Users/linus/Desktop/100sea/python/iterator_generator.ipynb#X13sZmlsZQ%3D%3D?line=0'>1</a>\u001b[0m collections\u001b[39m.\u001b[39;49mIterable()\n",
      "\u001b[0;31mTypeError\u001b[0m: Can't instantiate abstract class Iterable with abstract method __iter__"
     ]
    }
   ],
   "source": [
    "collections.Iterable()"
   ]
  },
  {
   "cell_type": "code",
   "execution_count": 58,
   "metadata": {},
   "outputs": [
    {
     "ename": "TypeError",
     "evalue": "Can't instantiate abstract class Iterator with abstract method __next__",
     "output_type": "error",
     "traceback": [
      "\u001b[0;31m---------------------------------------------------------------------------\u001b[0m",
      "\u001b[0;31mTypeError\u001b[0m                                 Traceback (most recent call last)",
      "\u001b[1;32m/Users/linus/Desktop/100sea/python/iterator_generator.ipynb Cell 4\u001b[0m in \u001b[0;36m<cell line: 1>\u001b[0;34m()\u001b[0m\n\u001b[0;32m----> <a href='vscode-notebook-cell:/Users/linus/Desktop/100sea/python/iterator_generator.ipynb#W6sZmlsZQ%3D%3D?line=0'>1</a>\u001b[0m collections\u001b[39m.\u001b[39;49mIterator()\n",
      "\u001b[0;31mTypeError\u001b[0m: Can't instantiate abstract class Iterator with abstract method __next__"
     ]
    }
   ],
   "source": [
    "collections.Iterator()"
   ]
  },
  {
   "cell_type": "code",
   "execution_count": null,
   "metadata": {},
   "outputs": [],
   "source": []
  },
  {
   "cell_type": "code",
   "execution_count": null,
   "metadata": {},
   "outputs": [],
   "source": []
  },
  {
   "cell_type": "code",
   "execution_count": null,
   "metadata": {},
   "outputs": [],
   "source": []
  }
 ],
 "metadata": {
  "kernelspec": {
   "display_name": "base",
   "language": "python",
   "name": "python3"
  },
  "language_info": {
   "codemirror_mode": {
    "name": "ipython",
    "version": 3
   },
   "file_extension": ".py",
   "mimetype": "text/x-python",
   "name": "python",
   "nbconvert_exporter": "python",
   "pygments_lexer": "ipython3",
   "version": "3.9.12"
  },
  "orig_nbformat": 4,
  "vscode": {
   "interpreter": {
    "hash": "40d3a090f54c6569ab1632332b64b2c03c39dcf918b08424e98f38b5ae0af88f"
   }
  }
 },
 "nbformat": 4,
 "nbformat_minor": 2
}
