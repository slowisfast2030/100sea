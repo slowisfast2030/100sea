{
 "cells": [
  {
   "cell_type": "code",
   "execution_count": 1,
   "metadata": {},
   "outputs": [
    {
     "data": {
      "text/plain": [
       "array([[1.        , 0.64897259],\n",
       "       [0.64897259, 1.        ]])"
      ]
     },
     "execution_count": 1,
     "metadata": {},
     "output_type": "execute_result"
    }
   ],
   "source": [
    "import numpy as np\n",
    "X = np.array([65, 72, 78, 65, 72, 70, 65, 68])\n",
    "Y = np.array([72, 69, 79, 69, 84, 75, 60, 73])\n",
    "np.corrcoef(X, Y)"
   ]
  },
  {
   "cell_type": "code",
   "execution_count": 2,
   "metadata": {},
   "outputs": [
    {
     "data": {
      "text/plain": [
       "array([[0.77395605, 0.43887844, 0.85859792],\n",
       "       [0.69736803, 0.09417735, 0.97562235],\n",
       "       [0.7611397 , 0.78606431, 0.12811363]])"
      ]
     },
     "execution_count": 2,
     "metadata": {},
     "output_type": "execute_result"
    }
   ],
   "source": [
    "rng = np.random.default_rng(seed=42)\n",
    "xarr = rng.random((3, 3))\n",
    "xarr"
   ]
  },
  {
   "cell_type": "code",
   "execution_count": 3,
   "metadata": {},
   "outputs": [
    {
     "data": {
      "text/plain": [
       "array([[ 1.        ,  0.99256089, -0.68080986],\n",
       "       [ 0.99256089,  1.        , -0.76492172],\n",
       "       [-0.68080986, -0.76492172,  1.        ]])"
      ]
     },
     "execution_count": 3,
     "metadata": {},
     "output_type": "execute_result"
    }
   ],
   "source": [
    "R1 = np.corrcoef(xarr)\n",
    "R1"
   ]
  },
  {
   "cell_type": "code",
   "execution_count": 4,
   "metadata": {},
   "outputs": [
    {
     "data": {
      "text/plain": [
       "array([[0.45038594, 0.37079802, 0.92676499],\n",
       "       [0.64386512, 0.82276161, 0.4434142 ],\n",
       "       [0.22723872, 0.55458479, 0.06381726]])"
      ]
     },
     "execution_count": 4,
     "metadata": {},
     "output_type": "execute_result"
    }
   ],
   "source": [
    "yarr = rng.random((3, 3))\n",
    "yarr"
   ]
  },
  {
   "cell_type": "code",
   "execution_count": 5,
   "metadata": {},
   "outputs": [
    {
     "data": {
      "text/plain": [
       "array([[ 1.        ,  0.99256089, -0.68080986,  0.75008178, -0.934284  ,\n",
       "        -0.99004057],\n",
       "       [ 0.99256089,  1.        , -0.76492172,  0.82502011, -0.97074098,\n",
       "        -0.99981569],\n",
       "       [-0.68080986, -0.76492172,  1.        , -0.99507202,  0.89721355,\n",
       "         0.77714685],\n",
       "       [ 0.75008178,  0.82502011, -0.99507202,  1.        , -0.93657855,\n",
       "        -0.83571711],\n",
       "       [-0.934284  , -0.97074098,  0.89721355, -0.93657855,  1.        ,\n",
       "         0.97517215],\n",
       "       [-0.99004057, -0.99981569,  0.77714685, -0.83571711,  0.97517215,\n",
       "         1.        ]])"
      ]
     },
     "execution_count": 5,
     "metadata": {},
     "output_type": "execute_result"
    }
   ],
   "source": [
    "R2 = np.corrcoef(xarr, yarr)\n",
    "R2"
   ]
  },
  {
   "cell_type": "code",
   "execution_count": 6,
   "metadata": {},
   "outputs": [
    {
     "data": {
      "text/plain": [
       "array([[ 1.        ,  0.99256089, -0.68080987,  0.75008178, -0.934284  ,\n",
       "        -0.99004057],\n",
       "       [ 0.99256089,  1.        , -0.76492173,  0.82502011, -0.97074098,\n",
       "        -0.99981569],\n",
       "       [-0.68080987, -0.76492173,  1.        , -0.99507202,  0.89721356,\n",
       "         0.77714685],\n",
       "       [ 0.75008178,  0.82502011, -0.99507202,  1.        , -0.93657855,\n",
       "        -0.83571711],\n",
       "       [-0.934284  , -0.97074098,  0.89721356, -0.93657855,  1.        ,\n",
       "         0.97517215],\n",
       "       [-0.99004057, -0.99981569,  0.77714685, -0.83571711,  0.97517215,\n",
       "         1.        ]])"
      ]
     },
     "execution_count": 6,
     "metadata": {},
     "output_type": "execute_result"
    }
   ],
   "source": [
    "zarr = np.array([[0.77395605, 0.43887844, 0.85859792],\n",
    "       [0.69736803, 0.09417735, 0.97562235],\n",
    "       [0.7611397 , 0.78606431, 0.12811363],\n",
    "       [0.45038594, 0.37079802, 0.92676499],\n",
    "       [0.64386512, 0.82276161, 0.4434142 ],\n",
    "       [0.22723872, 0.55458479, 0.06381726]])\n",
    "R3 = np.corrcoef(zarr)\n",
    "R3"
   ]
  },
  {
   "cell_type": "code",
   "execution_count": null,
   "metadata": {},
   "outputs": [],
   "source": []
  },
  {
   "cell_type": "code",
   "execution_count": null,
   "metadata": {},
   "outputs": [],
   "source": []
  },
  {
   "cell_type": "code",
   "execution_count": null,
   "metadata": {},
   "outputs": [],
   "source": []
  }
 ],
 "metadata": {
  "kernelspec": {
   "display_name": "Python 3.9.12 ('base')",
   "language": "python",
   "name": "python3"
  },
  "language_info": {
   "codemirror_mode": {
    "name": "ipython",
    "version": 3
   },
   "file_extension": ".py",
   "mimetype": "text/x-python",
   "name": "python",
   "nbconvert_exporter": "python",
   "pygments_lexer": "ipython3",
   "version": "3.9.12"
  },
  "orig_nbformat": 4,
  "vscode": {
   "interpreter": {
    "hash": "f63f3fa61251d3530929b90a6fd0ac6d4fd28461cb09a64c4fa1d09fc6d068be"
   }
  }
 },
 "nbformat": 4,
 "nbformat_minor": 2
}
