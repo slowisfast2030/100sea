{
 "cells": [
  {
   "cell_type": "code",
   "execution_count": 1,
   "metadata": {},
   "outputs": [
    {
     "data": {
      "text/plain": [
       "Counter({1: 4, 2: 1, 3: 3, 4: 1, 5: 1, 6: 1, 7: 2})"
      ]
     },
     "execution_count": 1,
     "metadata": {},
     "output_type": "execute_result"
    }
   ],
   "source": [
    "# Counter\n",
    "# 将可迭代对象作为输入并返回一个字典，其中键是可迭代元素，值是它们各自在原始可迭代对象中出现的次数。\n",
    "\n",
    "from collections import Counter\n",
    "data = [1, 1, 1, 1, 2, 3, 4, 3, 3, 5, 6, 7, 7]\n",
    "count = Counter(data)\n",
    "count"
   ]
  },
  {
   "cell_type": "code",
   "execution_count": 2,
   "metadata": {},
   "outputs": [
    {
     "data": {
      "text/plain": [
       "OrderedDict([('a', 5), ('d', 2), ('c', 1), ('b', 3)])"
      ]
     },
     "execution_count": 2,
     "metadata": {},
     "output_type": "execute_result"
    }
   ],
   "source": [
    "# OrderedDict\n",
    "# 这是一个记忆键插入顺序的字典结构。最新版本的 python 中字典已经包含了这个特性。\n",
    "from collections import OrderedDict\n",
    "dictt = OrderedDict()\n",
    "dictt['a'] = 5\n",
    "dictt['d'] = 2\n",
    "dictt['c'] = 1\n",
    "dictt['b'] = 3\n",
    "dictt"
   ]
  },
  {
   "cell_type": "code",
   "execution_count": null,
   "metadata": {},
   "outputs": [],
   "source": [
    "# defaultDict\n",
    "# 这是一个字典结构，当访问结构中不存在的键时将返回默认值，而不是引发错误。\n"
   ]
  },
  {
   "cell_type": "code",
   "execution_count": null,
   "metadata": {},
   "outputs": [],
   "source": []
  },
  {
   "cell_type": "code",
   "execution_count": null,
   "metadata": {},
   "outputs": [],
   "source": []
  },
  {
   "cell_type": "code",
   "execution_count": null,
   "metadata": {},
   "outputs": [],
   "source": []
  }
 ],
 "metadata": {
  "kernelspec": {
   "display_name": "Python 3.9.12 ('base')",
   "language": "python",
   "name": "python3"
  },
  "language_info": {
   "codemirror_mode": {
    "name": "ipython",
    "version": 3
   },
   "file_extension": ".py",
   "mimetype": "text/x-python",
   "name": "python",
   "nbconvert_exporter": "python",
   "pygments_lexer": "ipython3",
   "version": "3.9.12"
  },
  "orig_nbformat": 4,
  "vscode": {
   "interpreter": {
    "hash": "40d3a090f54c6569ab1632332b64b2c03c39dcf918b08424e98f38b5ae0af88f"
   }
  }
 },
 "nbformat": 4,
 "nbformat_minor": 2
}
