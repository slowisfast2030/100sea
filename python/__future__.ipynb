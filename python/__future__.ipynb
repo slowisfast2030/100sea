{
 "cells": [
  {
   "cell_type": "markdown",
   "metadata": {},
   "source": [
    "## __future__ Module in Python\n"
   ]
  },
  {
   "cell_type": "markdown",
   "metadata": {},
   "source": [
    "__future__ module is a built-in module in Python that is used to inherit new features that will be available in the new Python versions.. \n",
    "\n",
    "This module includes all the latest functions which were not present in the previous version in Python.   \n",
    "And we can use this by importing the __future__ module. Its releases are in Python version 2.1.   \n",
    "The basic idea of the __future__ module is to help migrate to use Python 3.X features. \n",
    "\n",
    "Note: The future statements must at the top of the file, otherwise the Python interpreter will raise SyntaxError"
   ]
  },
  {
   "cell_type": "code",
   "execution_count": null,
   "metadata": {},
   "outputs": [],
   "source": [
    "# 每当在最新版本python中实现了一个新的特性，这个新的特性并不会一开始就会开放给用户。\n",
    "# 比如说，annotations特性在python3.7中第一次出现。这个功能是beta版本。\n",
    "# 也就是说，这个功能会在未来成为新的python的成熟模块，但是目前仅仅是尝鲜。\n",
    "# 那么可以使用 from __future__ import annotations\n",
    "\n",
    "# 需要准确理解这个__future__模块的含义。"
   ]
  },
  {
   "cell_type": "markdown",
   "metadata": {},
   "source": [
    "|  Features   | Optional in | Mandatory in |\n",
    "|  ----  | ---- | ---- |\n",
    "| nested_scopes | 2.1 |2.2 |\n",
    "| generators | 2.2 | 2.3 |\n",
    "| print_function | 2.6 | 3.0 |\n",
    "|annotations|3.7|3.11|\n",
    "|...|...|...|"
   ]
  },
  {
   "cell_type": "code",
   "execution_count": null,
   "metadata": {},
   "outputs": [],
   "source": []
  },
  {
   "cell_type": "code",
   "execution_count": null,
   "metadata": {},
   "outputs": [],
   "source": []
  },
  {
   "cell_type": "code",
   "execution_count": null,
   "metadata": {},
   "outputs": [],
   "source": []
  },
  {
   "cell_type": "code",
   "execution_count": null,
   "metadata": {},
   "outputs": [],
   "source": []
  },
  {
   "cell_type": "code",
   "execution_count": null,
   "metadata": {},
   "outputs": [],
   "source": []
  },
  {
   "cell_type": "code",
   "execution_count": null,
   "metadata": {},
   "outputs": [],
   "source": []
  },
  {
   "cell_type": "code",
   "execution_count": null,
   "metadata": {},
   "outputs": [],
   "source": []
  },
  {
   "cell_type": "code",
   "execution_count": null,
   "metadata": {},
   "outputs": [],
   "source": []
  },
  {
   "cell_type": "code",
   "execution_count": null,
   "metadata": {},
   "outputs": [],
   "source": []
  },
  {
   "cell_type": "code",
   "execution_count": null,
   "metadata": {},
   "outputs": [],
   "source": []
  }
 ],
 "metadata": {
  "kernelspec": {
   "display_name": "Python 3.9.12 ('base')",
   "language": "python",
   "name": "python3"
  },
  "language_info": {
   "name": "python",
   "version": "3.9.12"
  },
  "orig_nbformat": 4,
  "vscode": {
   "interpreter": {
    "hash": "f63f3fa61251d3530929b90a6fd0ac6d4fd28461cb09a64c4fa1d09fc6d068be"
   }
  }
 },
 "nbformat": 4,
 "nbformat_minor": 2
}
