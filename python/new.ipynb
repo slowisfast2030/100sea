{
 "cells": [
  {
   "cell_type": "code",
   "execution_count": null,
   "metadata": {},
   "outputs": [],
   "source": []
  },
  {
   "cell_type": "code",
   "execution_count": null,
   "metadata": {},
   "outputs": [],
   "source": []
  },
  {
   "cell_type": "code",
   "execution_count": null,
   "metadata": {},
   "outputs": [],
   "source": []
  },
  {
   "cell_type": "code",
   "execution_count": null,
   "metadata": {},
   "outputs": [],
   "source": []
  },
  {
   "cell_type": "code",
   "execution_count": null,
   "metadata": {},
   "outputs": [],
   "source": []
  },
  {
   "cell_type": "code",
   "execution_count": 1,
   "metadata": {},
   "outputs": [
    {
     "name": "stdout",
     "output_type": "stream",
     "text": [
      "<class '__main__.Foo'>\n",
      "<__main__.Foo object at 0x7fc7e3061eb0>\n",
      "()\n",
      "{}\n",
      "<__main__.Foo object at 0x7fc7e3061eb0>\n"
     ]
    }
   ],
   "source": [
    "class Foo(object):\n",
    "\n",
    "    def __new__(cls, *args, **kwargs):\n",
    "        self = object.__new__(cls, *args, **kwargs)\n",
    "        print(cls)\n",
    "        print(self)\n",
    "        print(args)\n",
    "        print(kwargs)\n",
    "        return self\n",
    "\n",
    "    def __init__(self, price=50):\n",
    "        print(self)\n",
    "        self.price = price\n",
    "\n",
    "foo = Foo()\n"
   ]
  },
  {
   "cell_type": "code",
   "execution_count": 5,
   "metadata": {},
   "outputs": [
    {
     "name": "stdout",
     "output_type": "stream",
     "text": [
      "__new__ super:  <super: <class 'Foo'>, <Foo object>>\n",
      "__new__ object:  <class 'object'>\n",
      "__new__ cls:  <class '__main__.Foo'>\n",
      "__new__ self:  <__main__.Foo object at 0x7fc7e30613a0>\n",
      "__init__ self:  <__main__.Foo object at 0x7fc7e30613a0>\n",
      "world 50\n"
     ]
    }
   ],
   "source": [
    "class Foo(object):\n",
    "\n",
    "    def __new__(cls):\n",
    "        '''\n",
    "        先new一个对象的实例\n",
    "        然后将这个实例传给init函数进行初始化\n",
    "\n",
    "        可以认为这个new出来的对象啥都没有\n",
    "        我们通过init函数给其进行装饰\n",
    "        '''\n",
    "        # self = super().__new__(cls)\n",
    "        self = object.__new__(cls)\n",
    "        print('__new__ super: ', super())\n",
    "        print('__new__ object: ', object)\n",
    "        print('__new__ cls: ', cls)\n",
    "        print('__new__ self: ', self)\n",
    "        self.hello = 'world'\n",
    "        return self\n",
    "\n",
    "    def __init__(self, price=50):\n",
    "        print('__init__ self: ', self)\n",
    "        self.price = price\n",
    "\n",
    "foo = Foo()\n",
    "print(foo.hello, foo.price)\n"
   ]
  },
  {
   "cell_type": "code",
   "execution_count": 3,
   "metadata": {},
   "outputs": [
    {
     "name": "stdout",
     "output_type": "stream",
     "text": [
      "<__main__.Foo object at 0x7fc7e2d875e0>\n"
     ]
    },
    {
     "data": {
      "text/plain": [
       "['__class__',\n",
       " '__delattr__',\n",
       " '__dict__',\n",
       " '__dir__',\n",
       " '__doc__',\n",
       " '__eq__',\n",
       " '__format__',\n",
       " '__ge__',\n",
       " '__getattribute__',\n",
       " '__gt__',\n",
       " '__hash__',\n",
       " '__init__',\n",
       " '__init_subclass__',\n",
       " '__le__',\n",
       " '__lt__',\n",
       " '__module__',\n",
       " '__ne__',\n",
       " '__new__',\n",
       " '__reduce__',\n",
       " '__reduce_ex__',\n",
       " '__repr__',\n",
       " '__setattr__',\n",
       " '__sizeof__',\n",
       " '__str__',\n",
       " '__subclasshook__',\n",
       " '__weakref__']"
      ]
     },
     "execution_count": 3,
     "metadata": {},
     "output_type": "execute_result"
    }
   ],
   "source": [
    "# 直接通过object类创建对象实例\n",
    "obj = object.__new__(Foo)\n",
    "print(obj)\n",
    "dir(obj)"
   ]
  },
  {
   "cell_type": "code",
   "execution_count": null,
   "metadata": {},
   "outputs": [],
   "source": []
  },
  {
   "cell_type": "code",
   "execution_count": null,
   "metadata": {},
   "outputs": [],
   "source": []
  },
  {
   "cell_type": "code",
   "execution_count": null,
   "metadata": {},
   "outputs": [],
   "source": []
  }
 ],
 "metadata": {
  "kernelspec": {
   "display_name": "Python 3.9.12 ('base')",
   "language": "python",
   "name": "python3"
  },
  "language_info": {
   "codemirror_mode": {
    "name": "ipython",
    "version": 3
   },
   "file_extension": ".py",
   "mimetype": "text/x-python",
   "name": "python",
   "nbconvert_exporter": "python",
   "pygments_lexer": "ipython3",
   "version": "3.9.12"
  },
  "orig_nbformat": 4,
  "vscode": {
   "interpreter": {
    "hash": "f63f3fa61251d3530929b90a6fd0ac6d4fd28461cb09a64c4fa1d09fc6d068be"
   }
  }
 },
 "nbformat": 4,
 "nbformat_minor": 2
}
