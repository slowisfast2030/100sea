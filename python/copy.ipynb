{
 "cells": [
  {
   "cell_type": "markdown",
   "metadata": {},
   "source": [
    "[图解python中赋值、浅拷贝、深拷贝的区别](https://www.cnblogs.com/eczhou/p/7860668.html)"
   ]
  },
  {
   "cell_type": "code",
   "execution_count": 6,
   "metadata": {},
   "outputs": [
    {
     "name": "stdout",
     "output_type": "stream",
     "text": [
      "140365814872128\n",
      "['Will', 28, ['Python', 'C#', 'JavaScript']]\n",
      "[140365834446320, 140365657152656, 140365814871488]\n",
      "140365814872128\n",
      "['Will', 28, ['Python', 'C#', 'JavaScript']]\n",
      "[140365834446320, 140365657152656, 140365814871488]\n",
      "140365814872128\n",
      "['Wilber', 28, ['Python', 'C#', 'JavaScript', 'CSS']]\n",
      "[140365834446256, 140365657152656, 140365814871488]\n",
      "140365814872128\n",
      "['Wilber', 28, ['Python', 'C#', 'JavaScript', 'CSS']]\n",
      "[140365834446256, 140365657152656, 140365814871488]\n"
     ]
    }
   ],
   "source": [
    "# 赋值\n",
    "will = [\"Will\", 28, [\"Python\", \"C#\", \"JavaScript\"]]\n",
    "wilber = will\n",
    "\n",
    "print(id(will))\n",
    "print(will)\n",
    "print([id(ele) for ele in will])\n",
    "print(id(wilber))\n",
    "print(wilber)\n",
    "print([id(ele) for ele in wilber])\n",
    " \n",
    "will[0] = \"Wilber\"\n",
    "will[2].append(\"CSS\")\n",
    "print(id(will))\n",
    "print(will)\n",
    "print([id(ele) for ele in will])\n",
    "print(id(wilber))\n",
    "print(wilber)\n",
    "print([id(ele) for ele in wilber])"
   ]
  },
  {
   "cell_type": "code",
   "execution_count": 7,
   "metadata": {},
   "outputs": [
    {
     "name": "stdout",
     "output_type": "stream",
     "text": [
      "140365834265152\n",
      "['Will', 28, ['Python', 'C#', 'JavaScript']]\n",
      "[140365803747696, 140365657152656, 140365834300608]\n",
      "140365834298176\n",
      "['Will', 28, ['Python', 'C#', 'JavaScript']]\n",
      "[140365803747696, 140365657152656, 140365834300608]\n",
      "140365834265152\n",
      "['Wilber', 28, ['Python', 'C#', 'JavaScript', 'CSS']]\n",
      "[140365804158768, 140365657152656, 140365834300608]\n",
      "140365834298176\n",
      "['Will', 28, ['Python', 'C#', 'JavaScript', 'CSS']]\n",
      "[140365803747696, 140365657152656, 140365834300608]\n"
     ]
    }
   ],
   "source": [
    "# 浅拷贝\n",
    "import copy\n",
    "will = [\"Will\", 28, [\"Python\", \"C#\", \"JavaScript\"]]\n",
    "wilber = copy.copy(will)\n",
    "\n",
    "print(id(will))\n",
    "print(will)\n",
    "print([id(ele) for ele in will])\n",
    "print(id(wilber))\n",
    "print(wilber)\n",
    "print([id(ele) for ele in wilber])\n",
    " \n",
    "will[0] = \"Wilber\"\n",
    "will[2].append(\"CSS\")\n",
    "print(id(will))\n",
    "print(will)\n",
    "print([id(ele) for ele in will])\n",
    "print(id(wilber))\n",
    "print(wilber)\n",
    "print([id(ele) for ele in wilber])"
   ]
  },
  {
   "cell_type": "code",
   "execution_count": 8,
   "metadata": {},
   "outputs": [
    {
     "name": "stdout",
     "output_type": "stream",
     "text": [
      "140365834264960\n",
      "['Will', 28, ['Python', 'C#', 'JavaScript']]\n",
      "[140365803747696, 140365657152656, 140365804109120]\n",
      "140365814872128\n",
      "['Will', 28, ['Python', 'C#', 'JavaScript']]\n",
      "[140365803747696, 140365657152656, 140365814871488]\n",
      "140365834264960\n",
      "['Wilber', 28, ['Python', 'C#', 'JavaScript', 'CSS']]\n",
      "[140365799897840, 140365657152656, 140365804109120]\n",
      "140365814872128\n",
      "['Will', 28, ['Python', 'C#', 'JavaScript']]\n",
      "[140365803747696, 140365657152656, 140365814871488]\n"
     ]
    }
   ],
   "source": [
    "# 深拷贝\n",
    "import copy\n",
    "will = [\"Will\", 28, [\"Python\", \"C#\", \"JavaScript\"]]\n",
    "wilber = copy.deepcopy(will)\n",
    "\n",
    "print(id(will))\n",
    "print(will)\n",
    "print([id(ele) for ele in will])\n",
    "print(id(wilber))\n",
    "print(wilber)\n",
    "print([id(ele) for ele in wilber])\n",
    " \n",
    "will[0] = \"Wilber\"\n",
    "will[2].append(\"CSS\")\n",
    "print(id(will))\n",
    "print(will)\n",
    "print([id(ele) for ele in will])\n",
    "print(id(wilber))\n",
    "print(wilber)\n",
    "print([id(ele) for ele in wilber])"
   ]
  },
  {
   "cell_type": "code",
   "execution_count": null,
   "metadata": {},
   "outputs": [],
   "source": []
  },
  {
   "cell_type": "code",
   "execution_count": null,
   "metadata": {},
   "outputs": [],
   "source": []
  },
  {
   "cell_type": "code",
   "execution_count": null,
   "metadata": {},
   "outputs": [],
   "source": []
  },
  {
   "cell_type": "code",
   "execution_count": null,
   "metadata": {},
   "outputs": [],
   "source": []
  }
 ],
 "metadata": {
  "kernelspec": {
   "display_name": "Python 3.9.12 ('base')",
   "language": "python",
   "name": "python3"
  },
  "language_info": {
   "codemirror_mode": {
    "name": "ipython",
    "version": 3
   },
   "file_extension": ".py",
   "mimetype": "text/x-python",
   "name": "python",
   "nbconvert_exporter": "python",
   "pygments_lexer": "ipython3",
   "version": "3.9.12"
  },
  "orig_nbformat": 4,
  "vscode": {
   "interpreter": {
    "hash": "f63f3fa61251d3530929b90a6fd0ac6d4fd28461cb09a64c4fa1d09fc6d068be"
   }
  }
 },
 "nbformat": 4,
 "nbformat_minor": 2
}
