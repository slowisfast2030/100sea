{
 "cells": [
  {
   "cell_type": "markdown",
   "metadata": {},
   "source": [
    "[Python 中的下划线，双下划线](https://zhuanlan.zhihu.com/p/203841844)"
   ]
  },
  {
   "cell_type": "markdown",
   "metadata": {},
   "source": [
    "## 1. Single Leading Underscore: “_var”"
   ]
  },
  {
   "cell_type": "code",
   "execution_count": 12,
   "metadata": {},
   "outputs": [
    {
     "name": "stdout",
     "output_type": "stream",
     "text": [
      "11\n",
      "23\n"
     ]
    }
   ],
   "source": [
    "# 下划线前缀一般约定是为了提示其他程序员，以单个下划线开头的变量或方法供内部使用。  \n",
    "# PEP 8 中定义了此约定，这是最常用的 Python 编程规范。  \n",
    "# 当然，这个只是一个指示性，并不是强制，Python 在“私有”和“公共”变量之间没有像 Java 明确。\n",
    "\n",
    "class Test:\n",
    "    def __init__(self):\n",
    "        self.foo = 11\n",
    "        self._bar = 23\n",
    "\n",
    "t = Test()\n",
    "print(t.foo)\n",
    "print(t._bar)"
   ]
  },
  {
   "cell_type": "code",
   "execution_count": 13,
   "metadata": {},
   "outputs": [
    {
     "data": {
      "text/plain": [
       "'\\n>>> import my_module\\n>>> my_module.external_func() \\n23\\n>>> my_module._internal_func() \\n42\\n'"
      ]
     },
     "execution_count": 13,
     "metadata": {},
     "output_type": "execute_result"
    }
   ],
   "source": [
    "# 这里即使加上了下划线的前缀，我们也能访问变量，但要注意的是，下划线的前缀会影响从模块导入名称的方式。\n",
    "# my_module.py: \n",
    "def external_func(): \n",
    "   return 23 \n",
    " \n",
    "def _internal_func(): \n",
    "   return 42 \n",
    "\n",
    "# 我们倒入的时候能看到一个奇怪的现象：\n",
    "'''\n",
    ">>> from my_module import *\n",
    ">>> external_func()\n",
    " 23\n",
    ">>> _internal_func()\n",
    "NameError: \"name '_internal_func' is not defined\" \n",
    "'''\n",
    "\n",
    "# 这主要是因为通过通配符导从模块中导入所有函数，\n",
    "# Python 将不会导入带下划线的函数（或者你显式的在__all__ 列表里定义），应避免使用通配符导入。\n",
    "# 但是常规导入不受前缀下划线命名约定的影响：\n",
    "'''\n",
    ">>> import my_module\n",
    ">>> my_module.external_func() \n",
    "23\n",
    ">>> my_module._internal_func() \n",
    "42\n",
    "'''"
   ]
  },
  {
   "cell_type": "markdown",
   "metadata": {},
   "source": [
    "## 2.Single Trailing Underscore: “var_”"
   ]
  },
  {
   "cell_type": "code",
   "execution_count": 15,
   "metadata": {},
   "outputs": [
    {
     "data": {
      "text/plain": [
       "'\\n>>> def make_object(name, class): \\nSyntaxError: \"invalid syntax\"\\n\\n>>> def make_object(name, class_): \\n... pass\\n\\n'"
      ]
     },
     "execution_count": 15,
     "metadata": {},
     "output_type": "execute_result"
    }
   ],
   "source": [
    "# 当一个属性名恰好跟 Python 的关键字重名，为了直观，可以在属性名后加个_\n",
    "'''\n",
    ">>> def make_object(name, class): \n",
    "SyntaxError: \"invalid syntax\"\n",
    "\n",
    ">>> def make_object(name, class_): \n",
    "... pass\n",
    "\n",
    "'''"
   ]
  },
  {
   "cell_type": "markdown",
   "metadata": {},
   "source": [
    "## 3.双下划线前缀：“__var”"
   ]
  },
  {
   "cell_type": "code",
   "execution_count": null,
   "metadata": {},
   "outputs": [],
   "source": [
    "# 此时 Python 解释器会重写属性名称以避免子类中命名冲突，这就是所谓的 mangling，名字修饰，\n",
    "# 解释器以某种方式更改变量的名称，以使以后扩展类时更难产生冲突。\n",
    "class Test:\n",
    "   def __init__(self): \n",
    "      self.foo = 11 \n",
    "      self._bar = 23 \n",
    "      self.__baz = 42\n",
    "\n",
    "# 使用 Python 内置的函数 dir() 查看下 Test 类的属性。\n",
    "\n",
    "'''\n",
    ">>> t = Test()\n",
    ">>> dir(t)\n",
    "['_Test__baz', '__class__', '__delattr__', '__dict__','__dir__', \n",
    "'__doc__', '__eq__', '__format__', '__ge__', '__getattribute__', \n",
    "'__gt__', '__hash__', '__init__', '__le__', '__lt__', '__module__', \n",
    "'__ne__', '__new__', '__reduce__', '__reduce_ex__', '__repr__', '__setattr__', \n",
    "'__sizeof__', '__str__', '__subclasshook__', '__weakref__', '_bar', 'foo']\n",
    "\n",
    "'''\n",
    "# dir() 函数不带参数时，返回当前范围内的变量、方法和定义的类型列表；带参数时，返回参数的属性、方法列表。\n",
    "# 如果参数包含方法__dir__()，该方法将被调用。如果参数不包含__dir__()，该方法将最大限度地收集参数信息。\n",
    "# 上边返回类里变量 foo, _bar, 但是没有发现 __baz 这个变量。\n",
    "\n",
    "# 强行访问的话就会报错\n",
    "\n",
    "'''\n",
    ">>> t = Test()\n",
    ">>> t.__baz\n",
    "AttributeError: \"'Test' object has no attribute '__baz'\" \n",
    "\n",
    "'''\n",
    "# 我们仔细看下上边的列表，发现有个叫 _Test__baz 属性，这就是所谓的 mangling ，这样做是为了防止变量在子类中被覆盖。\n",
    "# 我们来建立个类 ExtendedTest，继承自 Test，试图在构造函数里覆盖已经存在的属性。\n",
    "\n",
    "class Test:\n",
    "   def __init__(self): \n",
    "      self.foo = 11 \n",
    "      self._bar = 23 \n",
    "      self.__baz = 42\n",
    "\n",
    "class ExtendedTest(Test): \n",
    "   def __init__(self):\n",
    "      super().__init__() \n",
    "      self.foo = 'overridden' \n",
    "      self._bar = 'overridden' \n",
    "      self.__baz = 'overridden'\n",
    "\n",
    "# 来看下 ExtendedTest 实例中 foo, _bar, 和 __baz 变量。\n",
    "\n",
    "'''\n",
    ">>> t2 = ExtendedTest() \n",
    ">>> t2.foo\n",
    "'overridden'\n",
    ">>> t2._bar 'overridden' \n",
    ">>> t2.__baz\n",
    "AttributeError: \"'ExtendedTest' object has no attribute '__baz'\" \n",
    "\n",
    "'''\n",
    "# 当试图访问 t2.__baz 时，又出现了 AttributeError，这其实就是 mangling，查看下属性确实没有 __baz 这个属性。\n",
    "\n",
    "'''\n",
    ">>> dir(t2)\n",
    " ['_ExtendedTest__baz', '_Test__baz', '__class__', '__delattr__',\n",
    " '__dict__', '__dir__', '__doc__', '__eq__', '__format__', '__ge__', \n",
    "'__getattribute__', '__gt__', '__hash__', '__init__', '__le__', '__lt__',\n",
    " '__module__', '__ne__', '__new__', '__reduce__', '__reduce_ex__', '__repr__',\n",
    " '__setattr__', '__sizeof__', '__str__', '__subclasshook__', '__weakref__', \n",
    "'_bar', 'foo', 'get_vars'] \n",
    "\n",
    "'''\n",
    "# __baz 变成了 _ExtendedTest__baz，基类 Test 的变量变成了 _Test__baz，我们试图访问下：\n",
    "'''\n",
    ">>> t2._ExtendedTest__baz \n",
    "'overridden'\n",
    ">>> t2._Test__baz\n",
    "42 \n",
    "'''"
   ]
  },
  {
   "cell_type": "code",
   "execution_count": null,
   "metadata": {},
   "outputs": [],
   "source": [
    "# 那么对于方法来说，mangling 同样适用。\n",
    "\n",
    "class MangledMethod: \n",
    "   def __method(self): \n",
    "       return 42\n",
    "   def call_it(self): \n",
    "       return self.__method() \n",
    "\n",
    "'''\n",
    ">>> MangledMethod().__method()\n",
    "AttributeError: \"'MangledMethod' object has no attribute '__method'\" \n",
    "\n",
    ">>> MangledMethod().call_it()\n",
    "42 \n",
    "'''\n"
   ]
  },
  {
   "cell_type": "markdown",
   "metadata": {},
   "source": [
    "## 4. 前后双下划线"
   ]
  },
  {
   "cell_type": "code",
   "execution_count": null,
   "metadata": {},
   "outputs": [],
   "source": [
    "# 常用于 __init__, __call__,__iter__, __next__这些方法里，但是，通常我们自己的方法名最好不要用。\n",
    "\n",
    "class PrefixPostfixTest: \n",
    "  def __init__(self):\n",
    "     self.__bam__ = 42\n",
    "\n",
    "'''\n",
    ">>> PrefixPostfixTest().__bam__ \n",
    "42\n",
    "''' \n"
   ]
  },
  {
   "cell_type": "code",
   "execution_count": null,
   "metadata": {},
   "outputs": [],
   "source": []
  },
  {
   "cell_type": "code",
   "execution_count": null,
   "metadata": {},
   "outputs": [],
   "source": []
  },
  {
   "cell_type": "code",
   "execution_count": null,
   "metadata": {},
   "outputs": [],
   "source": []
  },
  {
   "cell_type": "code",
   "execution_count": null,
   "metadata": {},
   "outputs": [],
   "source": []
  },
  {
   "cell_type": "code",
   "execution_count": null,
   "metadata": {},
   "outputs": [],
   "source": []
  },
  {
   "cell_type": "code",
   "execution_count": null,
   "metadata": {},
   "outputs": [],
   "source": []
  },
  {
   "cell_type": "code",
   "execution_count": null,
   "metadata": {},
   "outputs": [],
   "source": []
  },
  {
   "cell_type": "code",
   "execution_count": null,
   "metadata": {},
   "outputs": [],
   "source": []
  },
  {
   "cell_type": "code",
   "execution_count": null,
   "metadata": {},
   "outputs": [],
   "source": []
  },
  {
   "cell_type": "code",
   "execution_count": null,
   "metadata": {},
   "outputs": [],
   "source": []
  }
 ],
 "metadata": {
  "kernelspec": {
   "display_name": "Python 3.9.12 ('base')",
   "language": "python",
   "name": "python3"
  },
  "language_info": {
   "codemirror_mode": {
    "name": "ipython",
    "version": 3
   },
   "file_extension": ".py",
   "mimetype": "text/x-python",
   "name": "python",
   "nbconvert_exporter": "python",
   "pygments_lexer": "ipython3",
   "version": "3.9.12"
  },
  "orig_nbformat": 4,
  "vscode": {
   "interpreter": {
    "hash": "40d3a090f54c6569ab1632332b64b2c03c39dcf918b08424e98f38b5ae0af88f"
   }
  }
 },
 "nbformat": 4,
 "nbformat_minor": 2
}
