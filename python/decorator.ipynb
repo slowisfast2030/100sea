{
 "cells": [
  {
   "cell_type": "code",
   "execution_count": 3,
   "metadata": {},
   "outputs": [
    {
     "name": "stdout",
     "output_type": "stream",
     "text": [
      "7\n",
      "Function add executed in 0.00026s\n"
     ]
    }
   ],
   "source": [
    "import time\n",
    "\n",
    "def timer(func):\n",
    "    def wrapper(*args, **kwargs):\n",
    "        start = time.time()\n",
    "        func(*args, **kwargs)\n",
    "        end = time.time()\n",
    "        print('Function {} executed in {:.5f}s'.format(func.__name__, end-start))\n",
    "    return wrapper\n",
    "\n",
    "@timer\n",
    "def add(a, b):\n",
    "    sum = a + b\n",
    "    print(sum)\n",
    "\n",
    "add(3,4)\n"
   ]
  },
  {
   "cell_type": "code",
   "execution_count": 6,
   "metadata": {},
   "outputs": [
    {
     "name": "stdout",
     "output_type": "stream",
     "text": [
      "7\n",
      "Function add executed in 0.00018s\n"
     ]
    }
   ],
   "source": [
    "import time\n",
    "\n",
    "def timer(func):\n",
    "    def wrapper(*args, **kwargs):\n",
    "        start = time.time()\n",
    "        func(*args, **kwargs)\n",
    "        end = time.time()\n",
    "        print('Function {} executed in {:.5f}s'.format(func.__name__, end-start))\n",
    "    return wrapper\n",
    "\n",
    "def add(a, b):\n",
    "    sum = a + b\n",
    "    print(sum)\n",
    "\n",
    "add = timer(add)\n",
    "add(3, 4)"
   ]
  },
  {
   "cell_type": "code",
   "execution_count": 7,
   "metadata": {},
   "outputs": [
    {
     "name": "stdout",
     "output_type": "stream",
     "text": [
      "6\n",
      "9\n",
      "5\n",
      "10\n"
     ]
    }
   ],
   "source": [
    "# Python program to illustrate\n",
    "# closures\n",
    "import logging\n",
    "logging.basicConfig(filename='example.log',\n",
    "\t\t\t\t\tlevel=logging.INFO)\n",
    "\n",
    "\n",
    "def logger(func):\n",
    "\tdef log_func(*args):\n",
    "\t\tlogging.info(\n",
    "\t\t\t'Running \"{}\" with arguments {}'.format(func.__name__,\n",
    "\t\t\t\t\t\t\t\t\t\t\t\t\targs))\n",
    "\t\tprint(func(*args))\n",
    "\t\t\n",
    "\t# Necessary for closure to work (returning WITHOUT parenthesis)\n",
    "\treturn log_func\t\t\t\n",
    "\n",
    "def add(x, y):\n",
    "\treturn x+y\n",
    "\n",
    "def sub(x, y):\n",
    "\treturn x-y\n",
    "\n",
    "add_logger = logger(add)\n",
    "sub_logger = logger(sub)\n",
    "\n",
    "add_logger(3, 3)\n",
    "add_logger(4, 5)\n",
    "\n",
    "sub_logger(10, 5)\n",
    "sub_logger(20, 10)\n"
   ]
  },
  {
   "cell_type": "code",
   "execution_count": 8,
   "metadata": {},
   "outputs": [
    {
     "name": "stdout",
     "output_type": "stream",
     "text": [
      "INFO:root:Running \"add\" with arguments (3, 3)\n",
      "INFO:root:Running \"add\" with arguments (4, 5)\n",
      "INFO:root:Running \"sub\" with arguments (10, 5)\n",
      "INFO:root:Running \"sub\" with arguments (20, 10)\n"
     ]
    }
   ],
   "source": [
    "!cat example.log"
   ]
  },
  {
   "cell_type": "code",
   "execution_count": 10,
   "metadata": {},
   "outputs": [
    {
     "name": "stdout",
     "output_type": "stream",
     "text": [
      "Running \"add\" with arguments (3, 3)\n",
      "6\n",
      "Running \"add\" with arguments (4, 5)\n",
      "9\n",
      "Running \"sub\" with arguments (10, 5)\n",
      "5\n",
      "Running \"sub\" with arguments (20, 10)\n",
      "10\n"
     ]
    }
   ],
   "source": [
    "# Python program to illustrate closures\n",
    "\n",
    "def logger(func):\n",
    "\tdef log_func(*args):\n",
    "\t\tprint('Running \"{}\" with arguments {}'.format(func.__name__, args))\n",
    "\t\tprint(func(*args))\n",
    "\t# Necessary for closure to work (returning WITHOUT parenthesis)\n",
    "\treturn log_func\t\t\t\n",
    "\n",
    "@logger\n",
    "def add(x, y):\n",
    "\treturn x+y\n",
    "\n",
    "@logger\n",
    "def sub(x, y):\n",
    "\treturn x-y\n",
    "\n",
    "add(3, 3)\n",
    "add(4, 5)\n",
    "\n",
    "sub(10, 5)\n",
    "sub(20, 10)\n",
    "\n",
    "'''\n",
    "装饰器的本质：\n",
    "装饰函数将被装饰函数作为参数，返回同名的新的函数\n",
    "这样，隐形的增加了函数的功能\n",
    "'''"
   ]
  },
  {
   "cell_type": "code",
   "execution_count": null,
   "metadata": {},
   "outputs": [],
   "source": []
  },
  {
   "cell_type": "code",
   "execution_count": null,
   "metadata": {},
   "outputs": [],
   "source": []
  },
  {
   "cell_type": "code",
   "execution_count": null,
   "metadata": {},
   "outputs": [],
   "source": []
  },
  {
   "cell_type": "code",
   "execution_count": null,
   "metadata": {},
   "outputs": [],
   "source": []
  },
  {
   "cell_type": "code",
   "execution_count": null,
   "metadata": {},
   "outputs": [],
   "source": []
  },
  {
   "cell_type": "code",
   "execution_count": null,
   "metadata": {},
   "outputs": [],
   "source": []
  },
  {
   "cell_type": "code",
   "execution_count": null,
   "metadata": {},
   "outputs": [],
   "source": []
  }
 ],
 "metadata": {
  "kernelspec": {
   "display_name": "Python 3.9.12 ('base')",
   "language": "python",
   "name": "python3"
  },
  "language_info": {
   "codemirror_mode": {
    "name": "ipython",
    "version": 3
   },
   "file_extension": ".py",
   "mimetype": "text/x-python",
   "name": "python",
   "nbconvert_exporter": "python",
   "pygments_lexer": "ipython3",
   "version": "3.9.12"
  },
  "orig_nbformat": 4,
  "vscode": {
   "interpreter": {
    "hash": "f63f3fa61251d3530929b90a6fd0ac6d4fd28461cb09a64c4fa1d09fc6d068be"
   }
  }
 },
 "nbformat": 4,
 "nbformat_minor": 2
}
