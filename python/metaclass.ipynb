{
 "cells": [
  {
   "cell_type": "code",
   "execution_count": null,
   "metadata": {},
   "outputs": [],
   "source": []
  },
  {
   "cell_type": "code",
   "execution_count": 11,
   "metadata": {},
   "outputs": [
    {
     "name": "stdout",
     "output_type": "stream",
     "text": [
      "hello foo!\n"
     ]
    }
   ],
   "source": [
    "class UpperAttrMetaclass(type):\n",
    "    def __new__(cls, clsname, bases, attrs):\n",
    "        uppercase_attrs = {\n",
    "            attr if attr.startswith(\"__\") else attr.upper(): v\n",
    "            for attr, v in attrs.items()\n",
    "        }\n",
    "\n",
    "        # Python 3 can use no-arg super() which infers them:\n",
    "        return super().__new__(cls, clsname, bases, uppercase_attrs)\n",
    "\n",
    "class Foo(object, metaclass=UpperAttrMetaclass):\n",
    "    hello = 'world'\n",
    "\n",
    "    def show(self):\n",
    "        print('hello foo!')\n",
    "\n",
    "foo = Foo()\n",
    "\n",
    "foo.SHOW()"
   ]
  },
  {
   "cell_type": "code",
   "execution_count": 12,
   "metadata": {},
   "outputs": [
    {
     "name": "stdout",
     "output_type": "stream",
     "text": [
      "hello bar!\n"
     ]
    }
   ],
   "source": [
    "def upper_attr(future_class_name, future_class_parents, future_class_attrs):\n",
    "    \"\"\"\n",
    "      Return a class object, with the list of its attribute turned\n",
    "      into uppercase.\n",
    "    \"\"\"\n",
    "    uppercase_attrs = {\n",
    "        attr if attr.startswith(\"__\") else attr.upper(): v\n",
    "        for attr, v in future_class_attrs.items()\n",
    "    }\n",
    "\n",
    "    return type(future_class_name, future_class_parents, uppercase_attrs)\n",
    "\n",
    "\n",
    "class Bar(metaclass=upper_attr): \n",
    "    def __init__(self, name):\n",
    "        self.name = name\n",
    "    hello = 'world'\n",
    "\n",
    "    def show(self):\n",
    "        print('hello bar!')\n",
    "\n",
    "bar = Bar('thu')\n",
    "\n",
    "bar.SHOW()"
   ]
  },
  {
   "cell_type": "code",
   "execution_count": 18,
   "metadata": {},
   "outputs": [
    {
     "data": {
      "text/plain": [
       "{'name': 'thu'}"
      ]
     },
     "execution_count": 18,
     "metadata": {},
     "output_type": "execute_result"
    }
   ],
   "source": [
    "bar.__dict__"
   ]
  },
  {
   "cell_type": "code",
   "execution_count": 20,
   "metadata": {},
   "outputs": [
    {
     "data": {
      "text/plain": [
       "{'a': 1, 'b': 2, 'c': 3}"
      ]
     },
     "execution_count": 20,
     "metadata": {},
     "output_type": "execute_result"
    }
   ],
   "source": [
    "dict(a=1, b=2, c=3)"
   ]
  },
  {
   "cell_type": "code",
   "execution_count": null,
   "metadata": {},
   "outputs": [],
   "source": []
  },
  {
   "cell_type": "code",
   "execution_count": null,
   "metadata": {},
   "outputs": [],
   "source": []
  },
  {
   "cell_type": "code",
   "execution_count": 21,
   "metadata": {},
   "outputs": [
    {
     "data": {
      "text/plain": [
       "100"
      ]
     },
     "execution_count": 21,
     "metadata": {},
     "output_type": "execute_result"
    }
   ],
   "source": [
    "class Meta(type):\n",
    "    def __new__(cls, name, bases, dct):\n",
    "        x = super().__new__(cls, name, bases, dct)\n",
    "        x.attr = 100\n",
    "        return x\n",
    "\n",
    "class Foo(metaclass=Meta):\n",
    "    pass\n",
    "\n",
    "Foo.attr"
   ]
  },
  {
   "cell_type": "code",
   "execution_count": 37,
   "metadata": {},
   "outputs": [
    {
     "name": "stdout",
     "output_type": "stream",
     "text": [
      "<class '__main__.Meta'>\n",
      "Foo\n",
      "()\n",
      "{'__module__': '__main__', '__qualname__': 'Foo', 'hello': 'world'}\n",
      "{'__module__': '__main__', '__qualname__': 'Foo', 'hello': 'world', 'attr': 101}\n"
     ]
    },
    {
     "data": {
      "text/plain": [
       "101"
      ]
     },
     "execution_count": 37,
     "metadata": {},
     "output_type": "execute_result"
    }
   ],
   "source": [
    "class Meta(type):\n",
    "    def __new__(cls, name, bases, dct):\n",
    "        print(cls)\n",
    "        print(name)\n",
    "        print(bases)\n",
    "        print(dct)\n",
    "\n",
    "        dct = {**dct, **dict(attr=101)}\n",
    "        \n",
    "        print(dct)\n",
    "        return super().__new__(cls, name, bases, dct)\n",
    "\n",
    "class Foo(metaclass=Meta):\n",
    "    hello = 'world'\n",
    "\n",
    "Foo.attr"
   ]
  },
  {
   "cell_type": "code",
   "execution_count": null,
   "metadata": {},
   "outputs": [],
   "source": []
  }
 ],
 "metadata": {
  "kernelspec": {
   "display_name": "Python 3.9.12 ('base')",
   "language": "python",
   "name": "python3"
  },
  "language_info": {
   "codemirror_mode": {
    "name": "ipython",
    "version": 3
   },
   "file_extension": ".py",
   "mimetype": "text/x-python",
   "name": "python",
   "nbconvert_exporter": "python",
   "pygments_lexer": "ipython3",
   "version": "3.9.12"
  },
  "orig_nbformat": 4,
  "vscode": {
   "interpreter": {
    "hash": "f63f3fa61251d3530929b90a6fd0ac6d4fd28461cb09a64c4fa1d09fc6d068be"
   }
  }
 },
 "nbformat": 4,
 "nbformat_minor": 2
}
