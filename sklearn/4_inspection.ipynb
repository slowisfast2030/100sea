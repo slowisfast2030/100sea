{
 "cells": [
  {
   "cell_type": "markdown",
   "metadata": {},
   "source": [
    "# 4. Inspection"
   ]
  },
  {
   "cell_type": "code",
   "execution_count": 1,
   "metadata": {},
   "outputs": [
    {
     "data": {
      "text/plain": [
       "'\\nPredictive performance is often the main goal of developing machine learning models. \\nYet summarizing performance with an evaluation metric is often insufficient: \\nit assumes that the evaluation metric and test dataset perfectly reflect the target domain, \\nwhich is rarely true. \\n\\nIn certain domains, a model needs a certain level of interpretability before it can be deployed. \\nA model that is exhibiting performance issues needs to be debugged for one to understand the model’s underlying issue. \\nThe sklearn.inspection module provides tools to help understand the predictions from a model and what affects them. \\nThis can be used to evaluate assumptions and biases of a model, design a better model, or to diagnose issues with model performance.\\n'"
      ]
     },
     "execution_count": 1,
     "metadata": {},
     "output_type": "execute_result"
    }
   ],
   "source": [
    "'''\n",
    "Predictive performance is often the main goal of developing machine learning models. \n",
    "Yet summarizing performance with an evaluation metric is often insufficient: \n",
    "it assumes that the evaluation metric and test dataset perfectly reflect the target domain, \n",
    "which is rarely true. \n",
    "\n",
    "In certain domains, a model needs a certain level of interpretability before it can be deployed. \n",
    "A model that is exhibiting performance issues needs to be debugged for one to understand the model’s underlying issue. \n",
    "The sklearn.inspection module provides tools to help understand the predictions from a model and what affects them. \n",
    "This can be used to evaluate assumptions and biases of a model, design a better model, or to diagnose issues with model performance.\n",
    "'''"
   ]
  },
  {
   "cell_type": "code",
   "execution_count": null,
   "metadata": {},
   "outputs": [],
   "source": []
  },
  {
   "cell_type": "code",
   "execution_count": null,
   "metadata": {},
   "outputs": [],
   "source": []
  },
  {
   "cell_type": "code",
   "execution_count": null,
   "metadata": {},
   "outputs": [],
   "source": []
  },
  {
   "cell_type": "code",
   "execution_count": null,
   "metadata": {},
   "outputs": [],
   "source": []
  }
 ],
 "metadata": {
  "kernelspec": {
   "display_name": "Python 3.10.5 64-bit",
   "language": "python",
   "name": "python3"
  },
  "language_info": {
   "codemirror_mode": {
    "name": "ipython",
    "version": 3
   },
   "file_extension": ".py",
   "mimetype": "text/x-python",
   "name": "python",
   "nbconvert_exporter": "python",
   "pygments_lexer": "ipython3",
   "version": "3.10.5"
  },
  "orig_nbformat": 4,
  "vscode": {
   "interpreter": {
    "hash": "aee8b7b246df8f9039afb4144a1f6fd8d2ca17a180786b69acc140d282b71a49"
   }
  }
 },
 "nbformat": 4,
 "nbformat_minor": 2
}
