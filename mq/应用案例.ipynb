{
 "cells": [
  {
   "cell_type": "markdown",
   "metadata": {},
   "source": [
    "### Producer"
   ]
  },
  {
   "cell_type": "code",
   "execution_count": null,
   "metadata": {},
   "outputs": [],
   "source": [
    "from rocketmq.client import Producer, Message\n",
    "import json\n",
    "\n",
    "producer = Producer(\"PID-XXX\")\n",
    "producer.set_namesrv_addr('XX.XX.XX.XX:XXXX')\n",
    "producer.start()\n",
    "\n",
    "topic_name = \"xxx\"\n",
    "key_name = \"abc\"\n",
    "tags = \"123\"\n",
    "\n",
    "msg_body = {\n",
    "    \"key_1\":value_1,\n",
    "    \"key_2\":value_2\n",
    "}\n",
    "\n",
    "ss = json.dumps(msg_body).encode('utf-8')\n",
    "\n",
    "msg = Message(topic_name)\n",
    "msg.set_keys(key_name)\n",
    "msg.set_tags(tags)\n",
    "msg.set_body(ss)\n",
    "ret = producer.send_sync(msg)\n",
    "print(ret.status, ret.msg_id, ret.offset)\n",
    "producer.shutdown()\n"
   ]
  },
  {
   "cell_type": "markdown",
   "metadata": {},
   "source": [
    "### PullConsumer"
   ]
  },
  {
   "cell_type": "code",
   "execution_count": null,
   "metadata": {},
   "outputs": [],
   "source": [
    "from rocketmq.client import PullConsumer\n",
    "consumer = PullConsumer(\"PID-XXX\")\n",
    "consumer.set_namesrv_addr(\"XX.XX.XX.XX:XXXX\")\n",
    "consumer.start()\n",
    "while True:\n",
    "    topic_name = \"xxx\"\n",
    "    for msg in consumer.pull(topic_name):print(msg.id, msg.body)\n"
   ]
  },
  {
   "cell_type": "markdown",
   "metadata": {},
   "source": [
    "### PushConsumer"
   ]
  },
  {
   "cell_type": "code",
   "execution_count": null,
   "metadata": {},
   "outputs": [],
   "source": [
    "import json\n",
    "import time\n",
    "from rocketmq.client import PushConsumer, dll\n",
    "import traceback\n",
    "import logging\n",
    "\n",
    "class RocketMQ():\n",
    "    def __init__(self):\n",
    "        logging.basicConfig(level=logging.CRITICAL, format='%(asctime)s - %(name)s - %(levelname)s - %(message)s')\n",
    "        self.logger = logging.getLogger(__name__)    \n",
    "        \n",
    "        self.consumer = PushConsumer(\"PID-XXX\")\n",
    "        self.consumer.set_namesrv_addr(\"XX.XX.XX.XX:XXXX\")\n",
    "        self.topic_name = \"xxx\"\n",
    "        \n",
    "        #减少日志输出\n",
    "        dll.SetPushConsumerLogLevel(namesrv_addr.encode('utf-8'), 1)\n",
    "\n",
    "    def callback(self,msg):\n",
    "        test_body = json.loads(msg.body)\n",
    "        try:\n",
    "            self.my_func(test_body)\n",
    "            return PushConsumer\n",
    "        except Exception as e:\n",
    "            print('>>>>>>>>>>allback msg:\\n{}'.format(es_body))\n",
    "            print('>>>>>>>>>>callback error:\\n{}'.format(e))\n",
    "            return PushConsumer\n",
    "    \n",
    "    def onMessage(self):\n",
    "        self.consumer.subscribe(self.topic_name, self.callback)\n",
    "        self.consumer.start()\n",
    "        while True:\n",
    "            time.sleep(2)\n",
    "        self.consumer.shutdown()\n",
    "\n",
    "    def my_func(test_body):\n",
    "        print(test_body)\n",
    "\n",
    "if __name__ == '__main__':\n",
    "    mq = RocketMQ()\n",
    "    mq.onMessage()\n"
   ]
  }
 ],
 "metadata": {
  "kernelspec": {
   "display_name": "Python 3.9.12 ('base')",
   "language": "python",
   "name": "python3"
  },
  "language_info": {
   "name": "python",
   "version": "3.9.12"
  },
  "orig_nbformat": 4,
  "vscode": {
   "interpreter": {
    "hash": "40d3a090f54c6569ab1632332b64b2c03c39dcf918b08424e98f38b5ae0af88f"
   }
  }
 },
 "nbformat": 4,
 "nbformat_minor": 2
}
