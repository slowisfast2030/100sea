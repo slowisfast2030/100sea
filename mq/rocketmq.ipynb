{
 "cells": [
  {
   "cell_type": "code",
   "execution_count": 1,
   "metadata": {},
   "outputs": [],
   "source": [
    "# https://www.zhihu.com/question/54152397\n",
    "# "
   ]
  },
  {
   "cell_type": "markdown",
   "metadata": {},
   "source": [
    "### 推送消息\n"
   ]
  },
  {
   "cell_type": "code",
   "execution_count": null,
   "metadata": {},
   "outputs": [],
   "source": [
    "from rocketmq.client import Producer, Message\n",
    "producer = Producer('PID-001')     #随便\n",
    "producer.set_namesrv_addr('ip:port')   #ip和端口\n",
    "producer.start()\n",
    " \n",
    "msg = Message('rocket_mq_test_broadcast_topic')  #topic\n",
    "msg.set_keys('2020-12-15')\n",
    "msg.set_tags('explain')\n",
    "msg.set_body('{\"key\":\"value\"}')\n",
    "ret = producer.send_sync(msg)\n",
    "print(ret.status, ret.msg_id, ret.offset)\n",
    "producer.shutdown()"
   ]
  },
  {
   "cell_type": "code",
   "execution_count": null,
   "metadata": {},
   "outputs": [],
   "source": [
    "# 推送消息的时候，如果消息所占字节太长，需要手动设置size，代码中设置的是1M。\n",
    "producer = Producer('PID-001',max_message_size=1024*1024)"
   ]
  },
  {
   "cell_type": "markdown",
   "metadata": {},
   "source": [
    "### 消费方式PullConsumer（全部消费）（可重复消费）"
   ]
  },
  {
   "cell_type": "code",
   "execution_count": null,
   "metadata": {},
   "outputs": [],
   "source": [
    "from rocketmq.client import PullConsumer\n",
    "import json\n",
    "consumer = PullConsumer('PID-001')\n",
    "consumer.set_namesrv_addr('ip:port')\n",
    "consumer.start()\n",
    "for msg in consumer.pull('rocket_mq_test_broadcast_topic'):\n",
    "    print(msg.tags)\n",
    "    print(msg.keys)\n",
    "    print(msg.id, msg.body)\n",
    "    print(msg.topic)\n",
    "    print(msg)\n",
    "    data=json.loads(str(msg))  #dict\n",
    "consumer.shutdown()"
   ]
  },
  {
   "cell_type": "markdown",
   "metadata": {},
   "source": [
    "### 消费方式PushConsumer（即时消费）（不可重复消费）"
   ]
  },
  {
   "cell_type": "code",
   "execution_count": null,
   "metadata": {},
   "outputs": [],
   "source": [
    "import time\n",
    "from rocketmq.client import PushConsumer\n",
    "def callback(msg):\n",
    "    print(msg)\n",
    "consumer = PushConsumer('PID-001')\n",
    "consumer.set_namesrv_addr('ip:port')\n",
    "consumer.subscribe(\"rocket_mq_test_broadcast_topic\", callback)\n",
    "consumer.start()\n",
    "while True:\n",
    "    time.sleep(30)\n",
    "consumer.shutdown()"
   ]
  },
  {
   "cell_type": "code",
   "execution_count": null,
   "metadata": {},
   "outputs": [],
   "source": []
  },
  {
   "cell_type": "code",
   "execution_count": null,
   "metadata": {},
   "outputs": [],
   "source": []
  },
  {
   "cell_type": "code",
   "execution_count": null,
   "metadata": {},
   "outputs": [],
   "source": []
  },
  {
   "cell_type": "code",
   "execution_count": null,
   "metadata": {},
   "outputs": [],
   "source": []
  }
 ],
 "metadata": {
  "kernelspec": {
   "display_name": "Python 3.9.12 ('base')",
   "language": "python",
   "name": "python3"
  },
  "language_info": {
   "codemirror_mode": {
    "name": "ipython",
    "version": 3
   },
   "file_extension": ".py",
   "mimetype": "text/x-python",
   "name": "python",
   "nbconvert_exporter": "python",
   "pygments_lexer": "ipython3",
   "version": "3.9.12"
  },
  "orig_nbformat": 4,
  "vscode": {
   "interpreter": {
    "hash": "40d3a090f54c6569ab1632332b64b2c03c39dcf918b08424e98f38b5ae0af88f"
   }
  }
 },
 "nbformat": 4,
 "nbformat_minor": 2
}
